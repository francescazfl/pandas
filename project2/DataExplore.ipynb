{
 "cells": [
  {
   "cell_type": "code",
   "execution_count": 1,
   "metadata": {},
   "outputs": [],
   "source": [
    "import numpy as np\n",
    "import pandas as pd\n",
    "import ssl\n",
    "import matplotlib.pyplot as plt\n",
    "import seaborn as sb\n",
    "\n",
    "ssl._create_default_https_context = ssl._create_unverified_context"
   ]
  },
  {
   "cell_type": "code",
   "execution_count": 98,
   "metadata": {},
   "outputs": [],
   "source": [
    "def load_data():\n",
    "    data = pd.read_csv(\"https://raw.githubusercontent.com/lakigigar/Caltech-CS155-2021/main/projects/project2/data/data.txt\",  encoding='utf-8',sep='\\t',lineterminator='\\n',names=['USER','MOVIE','RATING'],header=None)\n",
    "    movies = pd.read_csv(\"https://raw.githubusercontent.com/lakigigar/Caltech-CS155-2021/main/projects/project2/data/movies.txt\", encoding='latin-1',sep='\\t',header=None)\n",
    "    movies.columns=['MOVIE_ID','TITLE','UNKNOWN','ACTION','ADVENTURE','ANIMATION','CHILDREN','COMEDY','CRIME','DOCUMENTARY','DRAMA','FANTASY','FILM-NOIR','HORROR','MUSICAL','MYSTERY','ROMANCE','SCI-FI','THRILLER','WAR','WESTERN']\n",
    "    return data,movies"
   ]
  },
  {
   "cell_type": "code",
   "execution_count": 99,
   "metadata": {},
   "outputs": [
    {
     "name": "stdout",
     "output_type": "stream",
     "text": [
      "(1664,)\n",
      "(1682,)\n"
     ]
    }
   ],
   "source": [
    "data,movies = load_data()\n",
    "\n",
    "print(movies['TITLE'].unique().shape)\n",
    "print(movies['MOVIE_ID'].unique().shape)"
   ]
  },
  {
   "cell_type": "code",
   "execution_count": 25,
   "metadata": {},
   "outputs": [
    {
     "name": "stdout",
     "output_type": "stream",
     "text": [
      "50     583\n",
      "258    509\n",
      "100    508\n",
      "181    507\n",
      "294    485\n",
      "286    481\n",
      "288    478\n",
      "1      452\n",
      "300    431\n",
      "121    429\n",
      "Name: MOVIE, dtype: int64\n",
      "        USER                                                               \\\n",
      "       count        mean         std    min     25%    50%     75%    max   \n",
      "MOVIE                                                                       \n",
      "1      452.0  477.011062  273.652445    1.0  250.75  471.5  711.00  941.0   \n",
      "2      131.0  492.007634  267.061546    1.0  277.50  484.0  732.50  943.0   \n",
      "3       90.0  459.133333  257.294882    1.0  268.25  457.5  623.50  936.0   \n",
      "4      209.0  469.497608  258.161624    1.0  280.00  455.0  664.00  940.0   \n",
      "5       86.0  439.372093  258.042270    1.0  269.25  390.5  646.75  925.0   \n",
      "...      ...         ...         ...    ...     ...    ...     ...    ...   \n",
      "1678     1.0  863.000000         NaN  863.0  863.00  863.0  863.00  863.0   \n",
      "1679     1.0  863.000000         NaN  863.0  863.00  863.0  863.00  863.0   \n",
      "1680     1.0  863.000000         NaN  863.0  863.00  863.0  863.00  863.0   \n",
      "1681     1.0  896.000000         NaN  896.0  896.00  896.0  896.00  896.0   \n",
      "1682     1.0  916.000000         NaN  916.0  916.00  916.0  916.00  916.0   \n",
      "\n",
      "      RATING                                               \n",
      "       count      mean       std  min  25%  50%  75%  max  \n",
      "MOVIE                                                      \n",
      "1      452.0  3.878319  0.927897  1.0  3.0  4.0  5.0  5.0  \n",
      "2      131.0  3.206107  0.966497  1.0  3.0  3.0  4.0  5.0  \n",
      "3       90.0  3.033333  1.212760  1.0  2.0  3.0  4.0  5.0  \n",
      "4      209.0  3.550239  0.965069  1.0  3.0  4.0  4.0  5.0  \n",
      "5       86.0  3.302326  0.946446  1.0  3.0  3.0  4.0  5.0  \n",
      "...      ...       ...       ...  ...  ...  ...  ...  ...  \n",
      "1678     1.0  1.000000       NaN  1.0  1.0  1.0  1.0  1.0  \n",
      "1679     1.0  3.000000       NaN  3.0  3.0  3.0  3.0  3.0  \n",
      "1680     1.0  2.000000       NaN  2.0  2.0  2.0  2.0  2.0  \n",
      "1681     1.0  3.000000       NaN  3.0  3.0  3.0  3.0  3.0  \n",
      "1682     1.0  3.000000       NaN  3.0  3.0  3.0  3.0  3.0  \n",
      "\n",
      "[1682 rows x 16 columns]\n"
     ]
    },
    {
     "data": {
      "image/png": "[encoded data removed]",
      "text/plain": [
       "<Figure size 432x288 with 1 Axes>"
      ]
     },
     "metadata": {
      "needs_background": "light"
     },
     "output_type": "display_data"
    },
    {
     "data": {
      "image/png": "[encoded data removed]",
      "text/plain": [
       "<Figure size 432x288 with 1 Axes>"
      ]
     },
     "metadata": {
      "needs_background": "light"
     },
     "output_type": "display_data"
    }
   ],
   "source": [
    "#Visualize all ratings\n",
    "plt.figure()\n",
    "sb.histplot(data['RATING'],binwidth = 1,binrange = (0.5,5.5))\n",
    "plt.xticks([1,2,3,4,5])\n",
    "plt.title('All Ratings')\n",
    "\n",
    "#10 most popular movies\n",
    "pop10ids = data['MOVIE'].value_counts()[:10]\n",
    "print(pop10ids)\n",
    "pop10 = movies.loc[movies['MOVIE_ID'].isin(pop10ind)]\n",
    "pop10data = data.loc[data['MOVIE'].isin(pop10ind)]\n",
    "\n",
    "plt.figure()\n",
    "sb.histplot(pop10data['RATING'],binwidth = 1,binrange = (0.5,5.5))\n",
    "plt.xticks([1,2,3,4,5])\n",
    "plt.title('10 Most Popular Ratings')\n"
   ]
  },
  {
   "cell_type": "code",
   "execution_count": 59,
   "metadata": {},
   "outputs": [
    {
     "name": "stdout",
     "output_type": "stream",
     "text": [
      "      RATING                                             \n",
      "       count      mean       std  min  25%  50%  75%  max\n",
      "MOVIE                                                    \n",
      "1      452.0  3.878319  0.927897  1.0  3.0  4.0  5.0  5.0\n",
      "2      131.0  3.206107  0.966497  1.0  3.0  3.0  4.0  5.0\n",
      "3       90.0  3.033333  1.212760  1.0  2.0  3.0  4.0  5.0\n",
      "4      209.0  3.550239  0.965069  1.0  3.0  4.0  4.0  5.0\n",
      "5       86.0  3.302326  0.946446  1.0  3.0  3.0  4.0  5.0\n",
      "...      ...       ...       ...  ...  ...  ...  ...  ...\n",
      "1678     1.0  1.000000       NaN  1.0  1.0  1.0  1.0  1.0\n",
      "1679     1.0  3.000000       NaN  3.0  3.0  3.0  3.0  3.0\n",
      "1680     1.0  2.000000       NaN  2.0  2.0  2.0  2.0  2.0\n",
      "1681     1.0  3.000000       NaN  3.0  3.0  3.0  3.0  3.0\n",
      "1682     1.0  3.000000       NaN  3.0  3.0  3.0  3.0  3.0\n",
      "\n",
      "[1682 rows x 8 columns]\n"
     ]
    }
   ],
   "source": [
    "#higest average\n",
    "group_by = data.drop(columns=['USER']).groupby(by='MOVIE',group_keys=True).describe()\n",
    "print(group_by)"
   ]
  },
  {
   "cell_type": "code",
   "execution_count": 77,
   "metadata": {},
   "outputs": [
    {
     "name": "stdout",
     "output_type": "stream",
     "text": [
      "[408 318 169 483 114  64 603  12  50 178]\n",
      "     MOVIE_ID                                              TITLE  UNKNOWN  \\\n",
      "10         12                         Usual Suspects, The (1995)        0   \n",
      "48         50                                   Star Wars (1977)        0   \n",
      "62         64                   Shawshank Redemption, The (1994)        0   \n",
      "112       114  Wallace & Gromit: The Best of Aardman Animatio...        0   \n",
      "167       169                         Wrong Trousers, The (1993)        0   \n",
      "176       178                                12 Angry Men (1957)        0   \n",
      "316       318                            Schindler's List (1993)        0   \n",
      "406       408                              Close Shave, A (1995)        0   \n",
      "481       483                                  Casablanca (1942)        0   \n",
      "601       603                                 Rear Window (1954)        0   \n",
      "\n",
      "     ACTION  ADVENTURE  ANIMATION  CHILDREN  COMEDY  CRIME  DOCUMENTARY  ...  \\\n",
      "10        0          0          0         0       0      1            0  ...   \n",
      "48        1          1          0         0       0      0            0  ...   \n",
      "62        0          0          0         0       0      0            0  ...   \n",
      "112       0          0          1         0       0      0            0  ...   \n",
      "167       0          0          1         0       1      0            0  ...   \n",
      "176       0          0          0         0       0      0            0  ...   \n",
      "316       0          0          0         0       0      0            0  ...   \n",
      "406       0          0          1         0       1      0            0  ...   \n",
      "481       0          0          0         0       0      0            0  ...   \n",
      "601       0          0          0         0       0      0            0  ...   \n",
      "\n",
      "     FANTASY  FILM-NOIR  HORROR  MUSICAL  MYSTERY  ROMANCE  SCI-FI  THRILLER  \\\n",
      "10         0          0       0        0        0        0       0         1   \n",
      "48         0          0       0        0        0        1       1         0   \n",
      "62         0          0       0        0        0        0       0         0   \n",
      "112        0          0       0        0        0        0       0         0   \n",
      "167        0          0       0        0        0        0       0         0   \n",
      "176        0          0       0        0        0        0       0         0   \n",
      "316        0          0       0        0        0        0       0         0   \n",
      "406        0          0       0        0        0        0       0         1   \n",
      "481        0          0       0        0        0        1       0         0   \n",
      "601        0          0       0        0        1        0       0         1   \n",
      "\n",
      "     WAR  WESTERN  \n",
      "10     0        0  \n",
      "48     1        0  \n",
      "62     0        0  \n",
      "112    0        0  \n",
      "167    0        0  \n",
      "176    0        0  \n",
      "316    1        0  \n",
      "406    0        0  \n",
      "481    1        0  \n",
      "601    0        0  \n",
      "\n",
      "[10 rows x 21 columns]\n"
     ]
    },
    {
     "data": {
      "text/plain": [
       "Text(0.5, 1.0, '10 Best Ratings')"
      ]
     },
     "execution_count": 77,
     "metadata": {},
     "output_type": "execute_result"
    },
    {
     "data": {
      "image/png": "[encoded data removed]",
      "text/plain": [
       "<Figure size 432x288 with 1 Axes>"
      ]
     },
     "metadata": {
      "needs_background": "light"
     },
     "output_type": "display_data"
    }
   ],
   "source": [
    "group_by_res = group_by['RATING']\n",
    "group_by_res = group_by_res[lambda x: x['count']>=20]\n",
    "group_by_res = group_by_res.sort_values(by='mean',ascending=False)\n",
    "best10ids = group_by_res.index.to_numpy()\n",
    "best10ids=best10ids[:10]\n",
    "print(best10ids)\n",
    "best10data = data.loc[data['MOVIE'].isin(best10ids)]\n",
    "best10movies = movies.loc[movies['MOVIE_ID'].isin(best10ids)]\n",
    "print(best10movies)\n",
    "\n",
    "plt.figure()\n",
    "sb.histplot(best10data['RATING'],binwidth = 1,binrange = (0.5,5.5))\n",
    "plt.xticks([1,2,3,4,5])\n",
    "plt.title('10 Best Ratings')\n"
   ]
  },
  {
   "cell_type": "code",
   "execution_count": 90,
   "metadata": {},
   "outputs": [
    {
     "data": {
      "text/plain": [
       "Text(0.5, 1.0, 'Documentary Ratings')"
      ]
     },
     "execution_count": 90,
     "metadata": {},
     "output_type": "execute_result"
    },
    {
     "data": {
      "image/png": "[encoded data removed]",
      "text/plain": [
       "<Figure size 432x288 with 1 Axes>"
      ]
     },
     "metadata": {
      "needs_background": "light"
     },
     "output_type": "display_data"
    },
    {
     "data": {
      "image/png": "[encoded data removed]",
      "text/plain": [
       "<Figure size 432x288 with 1 Axes>"
      ]
     },
     "metadata": {
      "needs_background": "light"
     },
     "output_type": "display_data"
    },
    {
     "data": {
      "image/png": "[encoded data removed]",
      "text/plain": [
       "<Figure size 432x288 with 1 Axes>"
      ]
     },
     "metadata": {
      "needs_background": "light"
     },
     "output_type": "display_data"
    }
   ],
   "source": [
    "#COMEDY\n",
    "comedy = movies[lambda x: x['COMEDY']==1]\n",
    "comedy_ids = comedy['MOVIE_ID'].unique()\n",
    "comedy_ids_data = data[lambda x: x['MOVIE'].isin(comedy_ids)]\n",
    "plt.figure()\n",
    "sb.histplot(comedy_ids_data['RATING'],binwidth = 1,binrange = (0.5,5.5))\n",
    "plt.xticks([1,2,3,4,5])\n",
    "plt.title('Comedy Ratings')\n",
    "\n",
    "#HORROR\n",
    "horror = movies[lambda x: x['HORROR']==1]\n",
    "horror_ids = horror['MOVIE_ID'].unique()\n",
    "horror_ids_data = data[lambda x: x['MOVIE'].isin(horror_ids)]\n",
    "plt.figure()\n",
    "sb.histplot(horror_ids_data['RATING'],binwidth = 1,binrange = (0.5,5.5))\n",
    "plt.xticks([1,2,3,4,5])\n",
    "plt.title('Horror Ratings')\n",
    "\n",
    "#DOCUMENTARY\n",
    "doc = movies[lambda x: x['DOCUMENTARY']==1]\n",
    "doc_ids = doc['MOVIE_ID'].unique()\n",
    "doc_ids_data = data[lambda x: x['MOVIE'].isin(doc_ids)]\n",
    "plt.figure()\n",
    "sb.histplot(doc_ids_data['RATING'],binwidth = 1,binrange = (0.5,5.5))\n",
    "plt.xticks([1,2,3,4,5])\n",
    "plt.title('Documentary Ratings')"
   ]
  },
  {
   "cell_type": "code",
   "execution_count": null,
   "metadata": {},
   "outputs": [],
   "source": []
  }
 ],
 "metadata": {
  "kernelspec": {
   "display_name": "Python 3",
   "language": "python",
   "name": "python3"
  },
  "language_info": {
   "codemirror_mode": {
    "name": "ipython",
    "version": 3
   },
   "file_extension": ".py",
   "mimetype": "text/x-python",
   "name": "python",
   "nbconvert_exporter": "python",
   "pygments_lexer": "ipython3",
   "version": "3.8.5"
  }
 },
 "nbformat": 4,
 "nbformat_minor": 4
}
