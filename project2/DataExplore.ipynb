{
 "cells": [
  {
   "cell_type": "code",
   "execution_count": 2,
   "metadata": {},
   "outputs": [],
   "source": [
    "import numpy as np\n",
    "import pandas as pd\n",
    "import ssl\n",
    "import matplotlib.pyplot as plt\n",
    "\n",
    "ssl._create_default_https_context = ssl._create_unverified_context"
   ]
  },
  {
   "cell_type": "code",
   "execution_count": 3,
   "metadata": {},
   "outputs": [],
   "source": [
    "def load_data():\n",
    "    data = pd.read_csv(\"https://raw.githubusercontent.com/lakigigar/Caltech-CS155-2021/main/projects/project2/data/data.txt\",  encoding='utf-8',sep='\\t',lineterminator='\\n',names=['USER','MOVIE','RATING'])\n",
    "    movies = pd.read_csv(\"https://raw.githubusercontent.com/lakigigar/Caltech-CS155-2021/main/projects/project2/data/movies.txt\", encoding='latin-1',sep='\\t')\n",
    "    movies.columns=['MOVIE_ID','TITLE','UNKNOWN','ACTION','ADVENTURE','ANIMATION','CHILDREN','COMEDY','CRIME','DOCUMENTARY','DRAMA','FANTASY','FILM-NOIR','HORROR','MUSICAL','MYSTERY','ROMANCE','SCI-FI','THRILLER','WAR','WESTERN']\n",
    "    return data,movies"
   ]
  },
  {
   "cell_type": "code",
   "execution_count": 4,
   "metadata": {},
   "outputs": [
    {
     "name": "stdout",
     "output_type": "stream",
     "text": [
      "       USER  MOVIE  RATING\n",
      "0       196    242       3\n",
      "1       186    302       3\n",
      "2        22    377       1\n",
      "3       244     51       2\n",
      "4       166    346       1\n",
      "...     ...    ...     ...\n",
      "99995   880    476       3\n",
      "99996   716    204       5\n",
      "99997   276   1090       1\n",
      "99998    13    225       2\n",
      "99999    12    203       3\n",
      "\n",
      "[100000 rows x 3 columns]\n",
      "      MOVIE_ID                                              TITLE  UNKNOWN  \\\n",
      "0            2                                   GoldenEye (1995)        0   \n",
      "1            3                                  Four Rooms (1995)        0   \n",
      "2            4                                  Get Shorty (1995)        0   \n",
      "3            5                                     Copycat (1995)        0   \n",
      "4            6  Shanghai Triad (Yao a yao yao dao waipo qiao) ...        0   \n",
      "...        ...                                                ...      ...   \n",
      "1676      1678                                  Mat' i syn (1997)        0   \n",
      "1677      1679                                   B. Monkey (1998)        0   \n",
      "1678      1680                               Sliding Doors (1998)        0   \n",
      "1679      1681                                You So Crazy (1994)        0   \n",
      "1680      1682          Scream of Stone (Schrei aus Stein) (1991)        0   \n",
      "\n",
      "      ACTION  ADVENTURE  ANIMATION  CHILDREN  COMEDY  CRIME  DOCUMENTARY  ...  \\\n",
      "0          1          1          0         0       0      0            0  ...   \n",
      "1          0          0          0         0       0      0            0  ...   \n",
      "2          1          0          0         0       1      0            0  ...   \n",
      "3          0          0          0         0       0      1            0  ...   \n",
      "4          0          0          0         0       0      0            0  ...   \n",
      "...      ...        ...        ...       ...     ...    ...          ...  ...   \n",
      "1676       0          0          0         0       0      0            0  ...   \n",
      "1677       0          0          0         0       0      0            0  ...   \n",
      "1678       0          0          0         0       0      0            0  ...   \n",
      "1679       0          0          0         0       1      0            0  ...   \n",
      "1680       0          0          0         0       0      0            0  ...   \n",
      "\n",
      "      FANTASY  FILM-NOIR  HORROR  MUSICAL  MYSTERY  ROMANCE  SCI-FI  THRILLER  \\\n",
      "0           0          0       0        0        0        0       0         1   \n",
      "1           0          0       0        0        0        0       0         1   \n",
      "2           0          0       0        0        0        0       0         0   \n",
      "3           0          0       0        0        0        0       0         1   \n",
      "4           0          0       0        0        0        0       0         0   \n",
      "...       ...        ...     ...      ...      ...      ...     ...       ...   \n",
      "1676        0          0       0        0        0        0       0         0   \n",
      "1677        0          0       0        0        0        1       0         1   \n",
      "1678        0          0       0        0        0        1       0         0   \n",
      "1679        0          0       0        0        0        0       0         0   \n",
      "1680        0          0       0        0        0        0       0         0   \n",
      "\n",
      "      WAR  WESTERN  \n",
      "0       0        0  \n",
      "1       0        0  \n",
      "2       0        0  \n",
      "3       0        0  \n",
      "4       0        0  \n",
      "...   ...      ...  \n",
      "1676    0        0  \n",
      "1677    0        0  \n",
      "1678    0        0  \n",
      "1679    0        0  \n",
      "1680    0        0  \n",
      "\n",
      "[1681 rows x 21 columns]\n"
     ]
    }
   ],
   "source": [
    "data,movies = load_data()\n",
    "print(data)\n",
    "print(movies)"
   ]
  },
  {
   "cell_type": "code",
   "execution_count": 6,
   "metadata": {},
   "outputs": [
    {
     "data": {
      "text/plain": [
       "([<matplotlib.axis.XTick at 0x7f89bff35d90>,\n",
       "  <matplotlib.axis.XTick at 0x7f89bff35d60>,\n",
       "  <matplotlib.axis.XTick at 0x7f89bff307f0>,\n",
       "  <matplotlib.axis.XTick at 0x7f89bfece310>,\n",
       "  <matplotlib.axis.XTick at 0x7f89bfece820>],\n",
       " [Text(0, 0, ''),\n",
       "  Text(0, 0, ''),\n",
       "  Text(0, 0, ''),\n",
       "  Text(0, 0, ''),\n",
       "  Text(0, 0, '')])"
      ]
     },
     "execution_count": 6,
     "metadata": {},
     "output_type": "execute_result"
    },
    {
     "data": {
      "image/png": "[encoded data removed]",
      "text/plain": [
       "<Figure size 432x288 with 1 Axes>"
      ]
     },
     "metadata": {
      "needs_background": "light"
     },
     "output_type": "display_data"
    }
   ],
   "source": [
    "#Visualize all ratings\n",
    "plt.figure()\n",
    "plt.hist(data['RATING'].to_numpy(),bins=[0.5,1.5,2.5,3.5,4.5,5.5],align='mid')\n",
    "plt.xticks([1,2,3,4,5])"
   ]
  },
  {
   "cell_type": "code",
   "execution_count": null,
   "metadata": {},
   "outputs": [],
   "source": []
  }
 ],
 "metadata": {
  "kernelspec": {
   "display_name": "Python 3",
   "language": "python",
   "name": "python3"
  },
  "language_info": {
   "codemirror_mode": {
    "name": "ipython",
    "version": 3
   },
   "file_extension": ".py",
   "mimetype": "text/x-python",
   "name": "python",
   "nbconvert_exporter": "python",
   "pygments_lexer": "ipython3",
   "version": "3.8.5"
  }
 },
 "nbformat": 4,
 "nbformat_minor": 4
}
