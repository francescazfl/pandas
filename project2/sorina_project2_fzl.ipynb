{
 "cells": [
  {
   "cell_type": "code",
   "execution_count": 2,
   "metadata": {},
   "outputs": [
    {
     "data": {
      "text/html": [
       "\n",
       "    <div class=\"bk-root\">\n",
       "        <a href=\"https://bokeh.org\" target=\"_blank\" class=\"bk-logo bk-logo-small bk-logo-notebook\"></a>\n",
       "        <span id=\"1001\">Loading BokehJS ...</span>\n",
       "    </div>"
      ]
     },
     "metadata": {},
     "output_type": "display_data"
    },
    {
     "data": {
      "application/javascript": [
       "\n",
       "(function(root) {\n",
       "  function now() {\n",
       "    return new Date();\n",
       "  }\n",
       "\n",
       "  var force = true;\n",
       "\n",
       "  if (typeof root._bokeh_onload_callbacks === \"undefined\" || force === true) {\n",
       "    root._bokeh_onload_callbacks = [];\n",
       "    root._bokeh_is_loading = undefined;\n",
       "  }\n",
       "\n",
       "  var JS_MIME_TYPE = 'application/javascript';\n",
       "  var HTML_MIME_TYPE = 'text/html';\n",
       "  var EXEC_MIME_TYPE = 'application/vnd.bokehjs_exec.v0+json';\n",
       "  var CLASS_NAME = 'output_bokeh rendered_html';\n",
       "\n",
       "  /**\n",
       "   * Render data to the DOM node\n",
       "   */\n",
       "  function render(props, node) {\n",
       "    var script = document.createElement(\"script\");\n",
       "    node.appendChild(script);\n",
       "  }\n",
       "\n",
       "  /**\n",
       "   * Handle when an output is cleared or removed\n",
       "   */\n",
       "  function handleClearOutput(event, handle) {\n",
       "    var cell = handle.cell;\n",
       "\n",
       "    var id = cell.output_area._bokeh_element_id;\n",
       "    var server_id = cell.output_area._bokeh_server_id;\n",
       "    // Clean up Bokeh references\n",
       "    if (id != null && id in Bokeh.index) {\n",
       "      Bokeh.index[id].model.document.clear();\n",
       "      delete Bokeh.index[id];\n",
       "    }\n",
       "\n",
       "    if (server_id !== undefined) {\n",
       "      // Clean up Bokeh references\n",
       "      var cmd = \"from bokeh.io.state import curstate; print(curstate().uuid_to_server['\" + server_id + \"'].get_sessions()[0].document.roots[0]._id)\";\n",
       "      cell.notebook.kernel.execute(cmd, {\n",
       "        iopub: {\n",
       "          output: function(msg) {\n",
       "            var id = msg.content.text.trim();\n",
       "            if (id in Bokeh.index) {\n",
       "              Bokeh.index[id].model.document.clear();\n",
       "              delete Bokeh.index[id];\n",
       "            }\n",
       "          }\n",
       "        }\n",
       "      });\n",
       "      // Destroy server and session\n",
       "      var cmd = \"import bokeh.io.notebook as ion; ion.destroy_server('\" + server_id + \"')\";\n",
       "      cell.notebook.kernel.execute(cmd);\n",
       "    }\n",
       "  }\n",
       "\n",
       "  /**\n",
       "   * Handle when a new output is added\n",
       "   */\n",
       "  function handleAddOutput(event, handle) {\n",
       "    var output_area = handle.output_area;\n",
       "    var output = handle.output;\n",
       "\n",
       "    // limit handleAddOutput to display_data with EXEC_MIME_TYPE content only\n",
       "    if ((output.output_type != \"display_data\") || (!output.data.hasOwnProperty(EXEC_MIME_TYPE))) {\n",
       "      return\n",
       "    }\n",
       "\n",
       "    var toinsert = output_area.element.find(\".\" + CLASS_NAME.split(' ')[0]);\n",
       "\n",
       "    if (output.metadata[EXEC_MIME_TYPE][\"id\"] !== undefined) {\n",
       "      toinsert[toinsert.length - 1].firstChild.textContent = output.data[JS_MIME_TYPE];\n",
       "      // store reference to embed id on output_area\n",
       "      output_area._bokeh_element_id = output.metadata[EXEC_MIME_TYPE][\"id\"];\n",
       "    }\n",
       "    if (output.metadata[EXEC_MIME_TYPE][\"server_id\"] !== undefined) {\n",
       "      var bk_div = document.createElement(\"div\");\n",
       "      bk_div.innerHTML = output.data[HTML_MIME_TYPE];\n",
       "      var script_attrs = bk_div.children[0].attributes;\n",
       "      for (var i = 0; i < script_attrs.length; i++) {\n",
       "        toinsert[toinsert.length - 1].firstChild.setAttribute(script_attrs[i].name, script_attrs[i].value);\n",
       "        toinsert[toinsert.length - 1].firstChild.textContent = bk_div.children[0].textContent\n",
       "      }\n",
       "      // store reference to server id on output_area\n",
       "      output_area._bokeh_server_id = output.metadata[EXEC_MIME_TYPE][\"server_id\"];\n",
       "    }\n",
       "  }\n",
       "\n",
       "  function register_renderer(events, OutputArea) {\n",
       "\n",
       "    function append_mime(data, metadata, element) {\n",
       "      // create a DOM node to render to\n",
       "      var toinsert = this.create_output_subarea(\n",
       "        metadata,\n",
       "        CLASS_NAME,\n",
       "        EXEC_MIME_TYPE\n",
       "      );\n",
       "      this.keyboard_manager.register_events(toinsert);\n",
       "      // Render to node\n",
       "      var props = {data: data, metadata: metadata[EXEC_MIME_TYPE]};\n",
       "      render(props, toinsert[toinsert.length - 1]);\n",
       "      element.append(toinsert);\n",
       "      return toinsert\n",
       "    }\n",
       "\n",
       "    /* Handle when an output is cleared or removed */\n",
       "    events.on('clear_output.CodeCell', handleClearOutput);\n",
       "    events.on('delete.Cell', handleClearOutput);\n",
       "\n",
       "    /* Handle when a new output is added */\n",
       "    events.on('output_added.OutputArea', handleAddOutput);\n",
       "\n",
       "    /**\n",
       "     * Register the mime type and append_mime function with output_area\n",
       "     */\n",
       "    OutputArea.prototype.register_mime_type(EXEC_MIME_TYPE, append_mime, {\n",
       "      /* Is output safe? */\n",
       "      safe: true,\n",
       "      /* Index of renderer in `output_area.display_order` */\n",
       "      index: 0\n",
       "    });\n",
       "  }\n",
       "\n",
       "  // register the mime type if in Jupyter Notebook environment and previously unregistered\n",
       "  if (root.Jupyter !== undefined) {\n",
       "    var events = require('base/js/events');\n",
       "    var OutputArea = require('notebook/js/outputarea').OutputArea;\n",
       "\n",
       "    if (OutputArea.prototype.mime_types().indexOf(EXEC_MIME_TYPE) == -1) {\n",
       "      register_renderer(events, OutputArea);\n",
       "    }\n",
       "  }\n",
       "\n",
       "  \n",
       "  if (typeof (root._bokeh_timeout) === \"undefined\" || force === true) {\n",
       "    root._bokeh_timeout = Date.now() + 5000;\n",
       "    root._bokeh_failed_load = false;\n",
       "  }\n",
       "\n",
       "  var NB_LOAD_WARNING = {'data': {'text/html':\n",
       "     \"<div style='background-color: #fdd'>\\n\"+\n",
       "     \"<p>\\n\"+\n",
       "     \"BokehJS does not appear to have successfully loaded. If loading BokehJS from CDN, this \\n\"+\n",
       "     \"may be due to a slow or bad network connection. Possible fixes:\\n\"+\n",
       "     \"</p>\\n\"+\n",
       "     \"<ul>\\n\"+\n",
       "     \"<li>re-rerun `output_notebook()` to attempt to load from CDN again, or</li>\\n\"+\n",
       "     \"<li>use INLINE resources instead, as so:</li>\\n\"+\n",
       "     \"</ul>\\n\"+\n",
       "     \"<code>\\n\"+\n",
       "     \"from bokeh.resources import INLINE\\n\"+\n",
       "     \"output_notebook(resources=INLINE)\\n\"+\n",
       "     \"</code>\\n\"+\n",
       "     \"</div>\"}};\n",
       "\n",
       "  function display_loaded() {\n",
       "    var el = document.getElementById(\"1001\");\n",
       "    if (el != null) {\n",
       "      el.textContent = \"BokehJS is loading...\";\n",
       "    }\n",
       "    if (root.Bokeh !== undefined) {\n",
       "      if (el != null) {\n",
       "        el.textContent = \"BokehJS \" + root.Bokeh.version + \" successfully loaded.\";\n",
       "      }\n",
       "    } else if (Date.now() < root._bokeh_timeout) {\n",
       "      setTimeout(display_loaded, 100)\n",
       "    }\n",
       "  }\n",
       "\n",
       "\n",
       "  function run_callbacks() {\n",
       "    try {\n",
       "      root._bokeh_onload_callbacks.forEach(function(callback) {\n",
       "        if (callback != null)\n",
       "          callback();\n",
       "      });\n",
       "    } finally {\n",
       "      delete root._bokeh_onload_callbacks\n",
       "    }\n",
       "    console.debug(\"Bokeh: all callbacks have finished\");\n",
       "  }\n",
       "\n",
       "  function load_libs(css_urls, js_urls, callback) {\n",
       "    if (css_urls == null) css_urls = [];\n",
       "    if (js_urls == null) js_urls = [];\n",
       "\n",
       "    root._bokeh_onload_callbacks.push(callback);\n",
       "    if (root._bokeh_is_loading > 0) {\n",
       "      console.debug(\"Bokeh: BokehJS is being loaded, scheduling callback at\", now());\n",
       "      return null;\n",
       "    }\n",
       "    if (js_urls == null || js_urls.length === 0) {\n",
       "      run_callbacks();\n",
       "      return null;\n",
       "    }\n",
       "    console.debug(\"Bokeh: BokehJS not loaded, scheduling load and callback at\", now());\n",
       "    root._bokeh_is_loading = css_urls.length + js_urls.length;\n",
       "\n",
       "    function on_load() {\n",
       "      root._bokeh_is_loading--;\n",
       "      if (root._bokeh_is_loading === 0) {\n",
       "        console.debug(\"Bokeh: all BokehJS libraries/stylesheets loaded\");\n",
       "        run_callbacks()\n",
       "      }\n",
       "    }\n",
       "\n",
       "    function on_error() {\n",
       "      console.error(\"failed to load \" + url);\n",
       "    }\n",
       "\n",
       "    for (var i = 0; i < css_urls.length; i++) {\n",
       "      var url = css_urls[i];\n",
       "      const element = document.createElement(\"link\");\n",
       "      element.onload = on_load;\n",
       "      element.onerror = on_error;\n",
       "      element.rel = \"stylesheet\";\n",
       "      element.type = \"text/css\";\n",
       "      element.href = url;\n",
       "      console.debug(\"Bokeh: injecting link tag for BokehJS stylesheet: \", url);\n",
       "      document.body.appendChild(element);\n",
       "    }\n",
       "\n",
       "    const hashes = {\"https://cdn.bokeh.org/bokeh/release/bokeh-2.2.3.min.js\": \"T2yuo9Oe71Cz/I4X9Ac5+gpEa5a8PpJCDlqKYO0CfAuEszu1JrXLl8YugMqYe3sM\", \"https://cdn.bokeh.org/bokeh/release/bokeh-widgets-2.2.3.min.js\": \"98GDGJ0kOMCUMUePhksaQ/GYgB3+NH9h996V88sh3aOiUNX3N+fLXAtry6xctSZ6\", \"https://cdn.bokeh.org/bokeh/release/bokeh-tables-2.2.3.min.js\": \"89bArO+nlbP3sgakeHjCo1JYxYR5wufVgA3IbUvDY+K7w4zyxJqssu7wVnfeKCq8\"};\n",
       "\n",
       "    for (var i = 0; i < js_urls.length; i++) {\n",
       "      var url = js_urls[i];\n",
       "      var element = document.createElement('script');\n",
       "      element.onload = on_load;\n",
       "      element.onerror = on_error;\n",
       "      element.async = false;\n",
       "      element.src = url;\n",
       "      if (url in hashes) {\n",
       "        element.crossOrigin = \"anonymous\";\n",
       "        element.integrity = \"sha384-\" + hashes[url];\n",
       "      }\n",
       "      console.debug(\"Bokeh: injecting script tag for BokehJS library: \", url);\n",
       "      document.head.appendChild(element);\n",
       "    }\n",
       "  };\n",
       "\n",
       "  function inject_raw_css(css) {\n",
       "    const element = document.createElement(\"style\");\n",
       "    element.appendChild(document.createTextNode(css));\n",
       "    document.body.appendChild(element);\n",
       "  }\n",
       "\n",
       "  \n",
       "  var js_urls = [\"https://cdn.bokeh.org/bokeh/release/bokeh-2.2.3.min.js\", \"https://cdn.bokeh.org/bokeh/release/bokeh-widgets-2.2.3.min.js\", \"https://cdn.bokeh.org/bokeh/release/bokeh-tables-2.2.3.min.js\"];\n",
       "  var css_urls = [];\n",
       "  \n",
       "\n",
       "  var inline_js = [\n",
       "    function(Bokeh) {\n",
       "      Bokeh.set_log_level(\"info\");\n",
       "    },\n",
       "    function(Bokeh) {\n",
       "    \n",
       "    \n",
       "    }\n",
       "  ];\n",
       "\n",
       "  function run_inline_js() {\n",
       "    \n",
       "    if (root.Bokeh !== undefined || force === true) {\n",
       "      \n",
       "    for (var i = 0; i < inline_js.length; i++) {\n",
       "      inline_js[i].call(root, root.Bokeh);\n",
       "    }\n",
       "    if (force === true) {\n",
       "        display_loaded();\n",
       "      }} else if (Date.now() < root._bokeh_timeout) {\n",
       "      setTimeout(run_inline_js, 100);\n",
       "    } else if (!root._bokeh_failed_load) {\n",
       "      console.log(\"Bokeh: BokehJS failed to load within specified timeout.\");\n",
       "      root._bokeh_failed_load = true;\n",
       "    } else if (force !== true) {\n",
       "      var cell = $(document.getElementById(\"1001\")).parents('.cell').data().cell;\n",
       "      cell.output_area.append_execute_result(NB_LOAD_WARNING)\n",
       "    }\n",
       "\n",
       "  }\n",
       "\n",
       "  if (root._bokeh_is_loading === 0) {\n",
       "    console.debug(\"Bokeh: BokehJS loaded, going straight to plotting\");\n",
       "    run_inline_js();\n",
       "  } else {\n",
       "    load_libs(css_urls, js_urls, function() {\n",
       "      console.debug(\"Bokeh: BokehJS plotting callback run at\", now());\n",
       "      run_inline_js();\n",
       "    });\n",
       "  }\n",
       "}(window));"
      ],
      "application/vnd.bokehjs_load.v0+json": "\n(function(root) {\n  function now() {\n    return new Date();\n  }\n\n  var force = true;\n\n  if (typeof root._bokeh_onload_callbacks === \"undefined\" || force === true) {\n    root._bokeh_onload_callbacks = [];\n    root._bokeh_is_loading = undefined;\n  }\n\n  \n\n  \n  if (typeof (root._bokeh_timeout) === \"undefined\" || force === true) {\n    root._bokeh_timeout = Date.now() + 5000;\n    root._bokeh_failed_load = false;\n  }\n\n  var NB_LOAD_WARNING = {'data': {'text/html':\n     \"<div style='background-color: #fdd'>\\n\"+\n     \"<p>\\n\"+\n     \"BokehJS does not appear to have successfully loaded. If loading BokehJS from CDN, this \\n\"+\n     \"may be due to a slow or bad network connection. Possible fixes:\\n\"+\n     \"</p>\\n\"+\n     \"<ul>\\n\"+\n     \"<li>re-rerun `output_notebook()` to attempt to load from CDN again, or</li>\\n\"+\n     \"<li>use INLINE resources instead, as so:</li>\\n\"+\n     \"</ul>\\n\"+\n     \"<code>\\n\"+\n     \"from bokeh.resources import INLINE\\n\"+\n     \"output_notebook(resources=INLINE)\\n\"+\n     \"</code>\\n\"+\n     \"</div>\"}};\n\n  function display_loaded() {\n    var el = document.getElementById(\"1001\");\n    if (el != null) {\n      el.textContent = \"BokehJS is loading...\";\n    }\n    if (root.Bokeh !== undefined) {\n      if (el != null) {\n        el.textContent = \"BokehJS \" + root.Bokeh.version + \" successfully loaded.\";\n      }\n    } else if (Date.now() < root._bokeh_timeout) {\n      setTimeout(display_loaded, 100)\n    }\n  }\n\n\n  function run_callbacks() {\n    try {\n      root._bokeh_onload_callbacks.forEach(function(callback) {\n        if (callback != null)\n          callback();\n      });\n    } finally {\n      delete root._bokeh_onload_callbacks\n    }\n    console.debug(\"Bokeh: all callbacks have finished\");\n  }\n\n  function load_libs(css_urls, js_urls, callback) {\n    if (css_urls == null) css_urls = [];\n    if (js_urls == null) js_urls = [];\n\n    root._bokeh_onload_callbacks.push(callback);\n    if (root._bokeh_is_loading > 0) {\n      console.debug(\"Bokeh: BokehJS is being loaded, scheduling callback at\", now());\n      return null;\n    }\n    if (js_urls == null || js_urls.length === 0) {\n      run_callbacks();\n      return null;\n    }\n    console.debug(\"Bokeh: BokehJS not loaded, scheduling load and callback at\", now());\n    root._bokeh_is_loading = css_urls.length + js_urls.length;\n\n    function on_load() {\n      root._bokeh_is_loading--;\n      if (root._bokeh_is_loading === 0) {\n        console.debug(\"Bokeh: all BokehJS libraries/stylesheets loaded\");\n        run_callbacks()\n      }\n    }\n\n    function on_error() {\n      console.error(\"failed to load \" + url);\n    }\n\n    for (var i = 0; i < css_urls.length; i++) {\n      var url = css_urls[i];\n      const element = document.createElement(\"link\");\n      element.onload = on_load;\n      element.onerror = on_error;\n      element.rel = \"stylesheet\";\n      element.type = \"text/css\";\n      element.href = url;\n      console.debug(\"Bokeh: injecting link tag for BokehJS stylesheet: \", url);\n      document.body.appendChild(element);\n    }\n\n    const hashes = {\"https://cdn.bokeh.org/bokeh/release/bokeh-2.2.3.min.js\": \"T2yuo9Oe71Cz/I4X9Ac5+gpEa5a8PpJCDlqKYO0CfAuEszu1JrXLl8YugMqYe3sM\", \"https://cdn.bokeh.org/bokeh/release/bokeh-widgets-2.2.3.min.js\": \"98GDGJ0kOMCUMUePhksaQ/GYgB3+NH9h996V88sh3aOiUNX3N+fLXAtry6xctSZ6\", \"https://cdn.bokeh.org/bokeh/release/bokeh-tables-2.2.3.min.js\": \"89bArO+nlbP3sgakeHjCo1JYxYR5wufVgA3IbUvDY+K7w4zyxJqssu7wVnfeKCq8\"};\n\n    for (var i = 0; i < js_urls.length; i++) {\n      var url = js_urls[i];\n      var element = document.createElement('script');\n      element.onload = on_load;\n      element.onerror = on_error;\n      element.async = false;\n      element.src = url;\n      if (url in hashes) {\n        element.crossOrigin = \"anonymous\";\n        element.integrity = \"sha384-\" + hashes[url];\n      }\n      console.debug(\"Bokeh: injecting script tag for BokehJS library: \", url);\n      document.head.appendChild(element);\n    }\n  };\n\n  function inject_raw_css(css) {\n    const element = document.createElement(\"style\");\n    element.appendChild(document.createTextNode(css));\n    document.body.appendChild(element);\n  }\n\n  \n  var js_urls = [\"https://cdn.bokeh.org/bokeh/release/bokeh-2.2.3.min.js\", \"https://cdn.bokeh.org/bokeh/release/bokeh-widgets-2.2.3.min.js\", \"https://cdn.bokeh.org/bokeh/release/bokeh-tables-2.2.3.min.js\"];\n  var css_urls = [];\n  \n\n  var inline_js = [\n    function(Bokeh) {\n      Bokeh.set_log_level(\"info\");\n    },\n    function(Bokeh) {\n    \n    \n    }\n  ];\n\n  function run_inline_js() {\n    \n    if (root.Bokeh !== undefined || force === true) {\n      \n    for (var i = 0; i < inline_js.length; i++) {\n      inline_js[i].call(root, root.Bokeh);\n    }\n    if (force === true) {\n        display_loaded();\n      }} else if (Date.now() < root._bokeh_timeout) {\n      setTimeout(run_inline_js, 100);\n    } else if (!root._bokeh_failed_load) {\n      console.log(\"Bokeh: BokehJS failed to load within specified timeout.\");\n      root._bokeh_failed_load = true;\n    } else if (force !== true) {\n      var cell = $(document.getElementById(\"1001\")).parents('.cell').data().cell;\n      cell.output_area.append_execute_result(NB_LOAD_WARNING)\n    }\n\n  }\n\n  if (root._bokeh_is_loading === 0) {\n    console.debug(\"Bokeh: BokehJS loaded, going straight to plotting\");\n    run_inline_js();\n  } else {\n    load_libs(css_urls, js_urls, function() {\n      console.debug(\"Bokeh: BokehJS plotting callback run at\", now());\n      run_inline_js();\n    });\n  }\n}(window));"
     },
     "metadata": {},
     "output_type": "display_data"
    }
   ],
   "source": [
    "import ssl\n",
    "ssl._create_default_https_context = ssl._create_unverified_context\n",
    "\n",
    "from math import pi\n",
    "import numpy as np\n",
    "import pandas as pd\n",
    "\n",
    "np.random.seed(42)\n",
    "\n",
    "import matplotlib.pyplot as plt\n",
    "import matplotlib.ticker as ticker\n",
    "\n",
    "import seaborn as sns\n",
    "sns.set_theme(style=\"white\", context=\"talk\")\n",
    "\n",
    "import iqplot\n",
    "import bokeh.io\n",
    "from bokeh.layouts import column, gridplot\n",
    "from bokeh.models import ColorBar, ColorMapper, LinearColorMapper, Ticker\n",
    "bokeh.io.output_notebook()\n",
    "\n",
    "from surprise import SVD, Reader\n",
    "from surprise import Dataset\n",
    "import sklearn\n",
    "from surprise.model_selection import cross_validate\n",
    "from sklearn.model_selection import train_test_split\n",
    "from sklearn.model_selection import GridSearchCV\n",
    "\n",
    "import sgd_utils as sgd"
   ]
  },
  {
   "cell_type": "code",
   "execution_count": 3,
   "metadata": {},
   "outputs": [],
   "source": [
    "%load_ext blackcellmagic"
   ]
  },
  {
   "cell_type": "code",
   "execution_count": 4,
   "metadata": {},
   "outputs": [],
   "source": [
    "def load_train_test(trainortest):\n",
    "    \"\"\"Load train or test data\"\"\"\n",
    "    return pd.read_csv(\n",
    "        \"https://raw.githubusercontent.com/lakigigar/Caltech-CS155-2021/main/projects/project2/data/\"\n",
    "        + trainortest,\n",
    "        sep=\"\\t\",\n",
    "        header=None,\n",
    "        names=[\"USER\", \"MOVIE\", \"RATING\"],\n",
    "    )"
   ]
  },
  {
   "cell_type": "code",
   "execution_count": 5,
   "metadata": {},
   "outputs": [],
   "source": [
    "def load_data(f_data, f_train, f_test, f_movies):\n",
    "    \"\"\"Load the user and movie data, FZL modified\"\"\"\n",
    "\n",
    "    data = load_train_test(f_data)\n",
    "    train = load_train_test(f_train)\n",
    "    test = load_train_test(f_test)\n",
    "\n",
    "    movies = pd.read_csv(\n",
    "        \"https://raw.githubusercontent.com/lakigigar/Caltech-CS155-2021/main/projects/project2/data/\"\n",
    "        + f_movies,\n",
    "        encoding=\"latin-1\",\n",
    "        sep=\"\\t\",\n",
    "        header=None,\n",
    "        names=[\n",
    "            \"MOVIE_ID\",\n",
    "            \"TITLE\",\n",
    "            \"UNKNOWN\",\n",
    "            \"ACTION\",\n",
    "            \"ADVENTURE\",\n",
    "            \"ANIMATION\",\n",
    "            \"CHILDREN\",\n",
    "            \"COMEDY\",\n",
    "            \"CRIME\",\n",
    "            \"DOCUMENTARY\",\n",
    "            \"DRAMA\",\n",
    "            \"FANTASY\",\n",
    "            \"FILM-NOIR\",\n",
    "            \"HORROR\",\n",
    "            \"MUSICAL\",\n",
    "            \"MYSTERY\",\n",
    "            \"ROMANCE\",\n",
    "            \"SCI-FI\",\n",
    "            \"THRILLER\",\n",
    "            \"WAR\",\n",
    "            \"WESTERN\",\n",
    "        ],\n",
    "    )\n",
    "\n",
    "    movies.loc[movies.TITLE == \"unknown\", \"TITLE\"] = \"MOVIE_ID: \" + movies.loc[\n",
    "        movies.TITLE == \"unknown\", \"MOVIE_ID\"\n",
    "    ].astype(\"str\")\n",
    "\n",
    "    return data, train, test, movies"
   ]
  },
  {
   "cell_type": "code",
   "execution_count": 6,
   "metadata": {},
   "outputs": [],
   "source": [
    "def check_dup(df, df_details):\n",
    "    \"\"\"Check fi there are duplicated entries for each dataframe\"\"\"\n",
    "    print(f\"There are {sum((df.duplicated())*1)} duplicate entires in {df_details}\")"
   ]
  },
  {
   "cell_type": "code",
   "execution_count": 7,
   "metadata": {
    "scrolled": true
   },
   "outputs": [
    {
     "name": "stdout",
     "output_type": "stream",
     "text": [
      "There are 0 duplicate entires in Y_train_df\n",
      "There are 0 duplicate entires in Y_test_df\n"
     ]
    }
   ],
   "source": [
    "data, Y_train_df, Y_test_df, movies = load_data(\n",
    "    \"data.txt\", \"train.txt\", \"test.txt\", \"movies.txt\"\n",
    ")\n",
    "\n",
    "check_dup(Y_train_df, \"Y_train_df\")\n",
    "check_dup(Y_test_df, \"Y_test_df\")"
   ]
  },
  {
   "cell_type": "markdown",
   "metadata": {},
   "source": [
    "## Matrix Fduplicatedorization visualizations\n",
    "### Method 1: HW5 solution"
   ]
  },
  {
   "cell_type": "code",
   "execution_count": 8,
   "metadata": {},
   "outputs": [],
   "source": [
    "def get_MNY(Y_train_df, Y_test_df):\n",
    "    \"\"\"Return Y_train, Y_test, M, N, \n",
    "    where M is unique user IDs and N is unique movie IDs\"\"\"\n",
    "    return (\n",
    "        Y_train_df.to_numpy(),\n",
    "        Y_test_df.to_numpy(),\n",
    "        int(max(max(Y_train_df.USER), max(Y_test_df.USER))),\n",
    "        int(max(max(Y_train_df.MOVIE), max(Y_test_df.MOVIE))),\n",
    "    )"
   ]
  },
  {
   "cell_type": "code",
   "execution_count": 9,
   "metadata": {},
   "outputs": [],
   "source": [
    "Y_train, Y_test, M, N = get_MNY(Y_train_df, Y_test_df)"
   ]
  },
  {
   "cell_type": "code",
   "execution_count": 12,
   "metadata": {},
   "outputs": [
    {
     "name": "stdout",
     "output_type": "stream",
     "text": [
      "Factorizing with  943  users,  1682  movies.\n",
      "Epoch 1, E_in (regularized MSE): 0.5207409521962589\n",
      "Epoch 2, E_in (regularized MSE): 0.39732417511546186\n",
      "Epoch 3, E_in (regularized MSE): 0.35493382745895596\n",
      "Epoch 4, E_in (regularized MSE): 0.32479318556966513\n",
      "Epoch 5, E_in (regularized MSE): 0.3105305773075721\n",
      "Epoch 6, E_in (regularized MSE): 0.2985793070586949\n",
      "Epoch 7, E_in (regularized MSE): 0.28254062119373297\n",
      "Epoch 8, E_in (regularized MSE): 0.27562186775616376\n",
      "Epoch 9, E_in (regularized MSE): 0.26662010943131104\n",
      "Epoch 10, E_in (regularized MSE): 0.26267616616953804\n",
      "Epoch 11, E_in (regularized MSE): 0.2594009135425387\n",
      "Epoch 12, E_in (regularized MSE): 0.25544874748619345\n",
      "Epoch 13, E_in (regularized MSE): 0.2541855985502832\n",
      "Epoch 14, E_in (regularized MSE): 0.2490519111271808\n",
      "Epoch 15, E_in (regularized MSE): 0.24864946053440656\n",
      "Err training 0.24864946053440656\n",
      "Err testing 0.6633048138972973\n",
      "dim U [m x k] (943, 20)\n",
      "dim V [k x n] (20, 1682)\n"
     ]
    }
   ],
   "source": [
    "print(\"Factorizing with \", M, \" users, \", N, \" movies.\")\n",
    "Ks = 20\n",
    "\n",
    "reg = 0.0\n",
    "eta = 0.03 # learning rate\n",
    "\n",
    "# Use to compute Ein and Eout\n",
    "U, V, err_training = sgd.train_model(M, N, Ks, eta, reg, Y_train)\n",
    "print('Err training', err_training)\n",
    "print('Err testing', sgd.get_err(U, V, Y_test))\n",
    "print('dim U [m x k]', U.shape)\n",
    "print('dim V [k x n]', V.shape)\n"
   ]
  },
  {
   "cell_type": "code",
   "execution_count": 9,
   "metadata": {},
   "outputs": [
    {
     "data": {
      "text/plain": [
       "0.24864946053440656"
      ]
     },
     "execution_count": 9,
     "metadata": {},
     "output_type": "execute_result"
    }
   ],
   "source": [
    "err_training"
   ]
  },
  {
   "cell_type": "code",
   "execution_count": 13,
   "metadata": {},
   "outputs": [],
   "source": [
    "## SVD\n",
    "\n",
    "A, sigma, B = np.linalg.svd(V,  full_matrices=False)\n",
    "A_two_cols = A[:, 0:2]\n",
    "\n",
    "U_proj = A_two_cols.transpose()@U.transpose()\n",
    "V_proj = A_two_cols.transpose()@V\n"
   ]
  },
  {
   "cell_type": "code",
   "execution_count": 61,
   "metadata": {},
   "outputs": [],
   "source": [
    "def get_list_movies(data, head_no):\n",
    "    \"\"\" selects the first head_no items from data and returns 3 lists of ids, genre and titles\"\"\"   \n",
    "\n",
    "    list_movies_id = [d[1] for d in data.head(head_no).values]\n",
    "\n",
    "    list_movies_genre = []\n",
    "    list_movies_titles = []\n",
    "    for idx in list_movies_id:\n",
    "        movie_id_df = movies[movies[\"MOVIE_ID\"] == idx]\n",
    "        list_cols = []\n",
    "        for i, v in enumerate(movie_id_df.values[0,:]):\n",
    "            if v == 1:\n",
    "                list_cols.append(movie_id_df.columns[i])\n",
    "        list_movies_genre.append(list_cols)\n",
    "        list_movies_titles.append(movie_id_df.values[0,1])\n",
    "        \n",
    "    return list_movies_id, list_movies_genre, list_movies_titles\n",
    "\n",
    "# Some visualizations\n",
    "def visualize(V_proj, movie_titles, movie_genre):\n",
    "    \"\"\" Plots V_proj with annotations from the lists of ids, genre and titles\"\"\"   \n",
    "\n",
    "    fig, ax = plt.subplots(1, 1, figsize=(10, 10))\n",
    "    ax.axhline(y=0, color='r')\n",
    "    ax.axvline(x=0, color='r')\n",
    "    ax.spines['right'].set_visible(False)\n",
    "    ax.spines['top'].set_visible(False)\n",
    "    m_proj0 = np.mean(V_proj[0,:])\n",
    "    m_proj1 = np.mean(V_proj[1,:])\n",
    "    ax.plot(V_proj[0,:] - m_proj0, V_proj[1,:] - m_proj1,'*')\n",
    "    ax.set_xlabel('V proj 0')\n",
    "    ax.set_ylabel('V proj 1')\n",
    "    offset = 0.01\n",
    "    for i, txt in enumerate(list_movies_titles):\n",
    "        ax.annotate(txt, (V_proj[0][i] - m_proj0 + offset, V_proj[1][i] - m_proj1 + offset), fontsize=8)\n",
    "\n",
    "    for i, txt in enumerate(list_movies_genre):\n",
    "        ax.annotate(txt, (V_proj[0][i] - m_proj0, V_proj[1][i] - m_proj1 - 5*offset), fontsize=8)\n",
    "\n",
    "    plt.show()\n"
   ]
  },
  {
   "cell_type": "code",
   "execution_count": 15,
   "metadata": {},
   "outputs": [
    {
     "data": {
      "image/png": "[encoded data removed]",
      "text/plain": [
       "<Figure size 720x720 with 1 Axes>"
      ]
     },
     "metadata": {},
     "output_type": "display_data"
    }
   ],
   "source": [
    "list_movies_id, list_movies_genre, list_movies_titles = get_list_movies(data, head_no=10)\n",
    "visualize(V_proj[:,0:10], list_movies_titles, list_movies_genre)"
   ]
  },
  {
   "cell_type": "markdown",
   "metadata": {},
   "source": [
    "### Method 2: Incorporate a and b for each user and move to model global tendencies of the various moves and users TODO"
   ]
  },
  {
   "cell_type": "code",
   "execution_count": 42,
   "metadata": {},
   "outputs": [
    {
     "data": {
      "text/plain": [
       "(943, 20)"
      ]
     },
     "execution_count": 42,
     "metadata": {},
     "output_type": "execute_result"
    }
   ],
   "source": [
    "K = 20\n",
    "U = np.random.random((M,K)) - 0.5\n",
    "U.shape"
   ]
  },
  {
   "cell_type": "code",
   "execution_count": 45,
   "metadata": {},
   "outputs": [
    {
     "data": {
      "text/plain": [
       "(20, 1682)"
      ]
     },
     "execution_count": 45,
     "metadata": {},
     "output_type": "execute_result"
    }
   ],
   "source": [
    "V = np.random.random((K,N)) - 0.5\n",
    "V.shape"
   ]
  },
  {
   "cell_type": "code",
   "execution_count": 48,
   "metadata": {},
   "outputs": [
    {
     "data": {
      "text/plain": [
       "(21, 1682)"
      ]
     },
     "execution_count": 48,
     "metadata": {},
     "output_type": "execute_result"
    }
   ],
   "source": []
  },
  {
   "cell_type": "code",
   "execution_count": null,
   "metadata": {},
   "outputs": [],
   "source": [
    "np.hstack([np.ones((V.shape[0], 1)), V])"
   ]
  },
  {
   "cell_type": "code",
   "execution_count": 53,
   "metadata": {},
   "outputs": [],
   "source": [
    "import numpy as np\n",
    "np.random.seed(42)\n",
    "\n",
    "# these are from the solutions from Piazza\n",
    "\n",
    "def grad_U(Ui, Yij, Vj, reg, eta):\n",
    "    \"\"\"\n",
    "    Takes as input Ui (the ith row of U), a training point Yij, the column\n",
    "    vector Vj (jth column of V^T), reg (the regularization parameter lambda),\n",
    "    and eta (the learning rate).\n",
    "\n",
    "    Returns the gradient of the regularized loss function with\n",
    "    respect to Ui multiplied by eta.\n",
    "    \"\"\"\n",
    "    return (1-reg*eta)*Ui + eta * Vj * (Yij - np.dot(Ui,Vj))     \n",
    "\n",
    "def grad_V(Vj, Yij, Ui, reg, eta):\n",
    "    \"\"\"\n",
    "    Takes as input the column vector Vj (jth column of V^T), a training point Yij,\n",
    "    Ui (the ith row of U), reg (the regularization parameter lambda),\n",
    "    and eta (the learning rate).\n",
    "\n",
    "    Returns the gradient of the regularized loss function with\n",
    "    respect to Vj multiplied by eta.\n",
    "    \"\"\"\n",
    "    return (1-reg*eta)*Vj + eta * Ui * (Yij - np.dot(Ui,Vj))\n",
    "\n",
    "def get_err(U, V, Y, reg=0.0):\n",
    "    \"\"\"\n",
    "    Takes as input a matrix Y of triples (i, j, Y_ij) where i is the index of a user,\n",
    "    j is the index of a movie, and Y_ij is user i's rating of movie j and\n",
    "    user/movie matrices U and V.\n",
    "\n",
    "    Returns the mean regularized squared-error of predictions made by\n",
    "    estimating Y_{ij} as the dot product of the ith row of U and the jth column of V^T.\n",
    "    \"\"\"\n",
    "    # Compute mean squared error on each data point in Y; include\n",
    "    # regularization penalty in error calculations.\n",
    "    # We first compute the total squared squared error\n",
    "    err = 0.0\n",
    "    for (i,j,Yij) in Y:\n",
    "        err += 0.5 *(Yij - np.dot(U[i-1], V[:,j-1]))**2\n",
    "    # Add error penalty due to regularization if regularization\n",
    "    # parameter is nonzero\n",
    "    if reg != 0:\n",
    "        U_frobenius_norm = np.linalg.norm(U, ord='fro')\n",
    "        V_frobenius_norm = np.linalg.norm(V, ord='fro')\n",
    "        err += 0.5 * reg * (U_frobenius_norm ** 2)\n",
    "        err += 0.5 * reg * (V_frobenius_norm ** 2)\n",
    "    # Return the mean of the regularized error\n",
    "    return err / float(len(Y))\n",
    "\n",
    "def train_model(M, N, K, eta, reg, Y, eps=0.0001, max_epochs=300):\n",
    "    \"\"\"\n",
    "    Given a training data matrix Y containing rows (i, j, Y_ij)\n",
    "    where Y_ij is user i's rating on movie j, learns an\n",
    "    M x K matrix U and N x K matrix V such that rating Y_ij is approximated\n",
    "    by (UV)_ij.\n",
    "\n",
    "    Uses a learning rate of <eta> and regularization of <reg>. Stops after\n",
    "    <max_epochs> epochs, or once the magnitude of the decrease in regularized\n",
    "    MSE between epochs is smaller than a fraction <eps> of the decrease in\n",
    "    MSE after the first epoch.\n",
    "\n",
    "    Returns a tuple (U, V, err) consisting of U, V, and the unregularized MSE\n",
    "    of the model.\n",
    "    \"\"\"\n",
    "    \n",
    "    np.random.seed(42)\n",
    "    \n",
    "    # Initialize U, V  \n",
    "    U = np.random.random((M,K)) - 0.5\n",
    "    V = np.random.random((K,N)) - 0.5\n",
    "    size = Y.shape[0]\n",
    "    delta = None\n",
    "    indices = np.arange(size)    \n",
    "    for epoch in range(max_epochs):\n",
    "        # Run an epoch of SGD\n",
    "        before_E_in = get_err(U, V, Y, reg)\n",
    "        np.random.shuffle(indices)\n",
    "        for ind in indices:\n",
    "            (i,j, Yij) = Y[ind]\n",
    "            # Update U[i], V[j]\n",
    "            U[i-1] = grad_U(U[i-1], Yij, V[:,j-1], reg, eta)\n",
    "            V[:,j-1] = grad_V(V[:,j-1], Yij, U[i-1], reg, eta);\n",
    "        # At end of epoch, print E_in\n",
    "        E_in = get_err(U, V, Y, reg)\n",
    "        print(\"Epoch %s, E_in (regularized MSE): %s\"%(epoch + 1, E_in))\n",
    "\n",
    "        # Compute change in E_in for first epoch\n",
    "        if epoch == 0:\n",
    "            delta = before_E_in - E_in\n",
    "\n",
    "        # If E_in doesn't decrease by some fraction <eps>\n",
    "        # of the initial decrease in E_in, stop early            \n",
    "        elif before_E_in - E_in < eps * delta:\n",
    "            break\n",
    "    return (U, V, get_err(U, V, Y))"
   ]
  },
  {
   "cell_type": "code",
   "execution_count": 56,
   "metadata": {},
   "outputs": [],
   "source": [
    "def add_bias_UV(U, V):\n",
    "    \"\"\"Add biases to U and V\"\"\"\n",
    "    return (\n",
    "        np.hstack([np.ones((U.shape[0], 1)), U]),\n",
    "        np.vstack([np.ones((1, V.shape[1])), V]),\n",
    "    )"
   ]
  },
  {
   "cell_type": "code",
   "execution_count": 57,
   "metadata": {},
   "outputs": [],
   "source": [
    "def train_ab_model(M, N, K, eta, reg, Y, eps=0.0001, max_epochs=300):\n",
    "    \"\"\"\n",
    "    Given a training data matrix Y containing rows (i, j, Y_ij)\n",
    "    where Y_ij is user i's rating on movie j, learns an\n",
    "    M x K matrix U and N x K matrix V such that rating Y_ij is approximated\n",
    "    by (UV)_ij.\n",
    "\n",
    "    Uses a learning rate of <eta> and regularization of <reg>. Stops after\n",
    "    <max_epochs> epochs, or once the magnitude of the decrease in regularized\n",
    "    MSE between epochs is smaller than a fraction <eps> of the decrease in\n",
    "    MSE after the first epoch.\n",
    "\n",
    "    Returns a tuple (U, V, err) consisting of U, V, and the unregularized MSE\n",
    "    of the model.\n",
    "    \"\"\"\n",
    "    \n",
    "    np.random.seed(42)\n",
    "    \n",
    "    # Initialize U, V  \n",
    "    U = np.random.random((M,K)) - 0.5\n",
    "    V = np.random.random((K,N)) - 0.5\n",
    "    \n",
    "    # Add bias\n",
    "    U, V = add_bias_UV(U, V)\n",
    "    \n",
    "    size = Y.shape[0]\n",
    "    delta = None\n",
    "    indices = np.arange(size)    \n",
    "    for epoch in range(max_epochs):\n",
    "        # Run an epoch of SGD\n",
    "        before_E_in = get_err(U, V, Y, reg)\n",
    "        np.random.shuffle(indices)\n",
    "        for ind in indices:\n",
    "            (i,j, Yij) = Y[ind]\n",
    "            # Update U[i], V[j]\n",
    "            U[i-1] = grad_U(U[i-1], Yij, V[:,j-1], reg, eta)\n",
    "            V[:,j-1] = grad_V(V[:,j-1], Yij, U[i-1], reg, eta);\n",
    "        # At end of epoch, print E_in\n",
    "        E_in = get_err(U, V, Y, reg)\n",
    "        print(\"Epoch %s, E_in (regularized MSE): %s\"%(epoch + 1, E_in))\n",
    "\n",
    "        # Compute change in E_in for first epoch\n",
    "        if epoch == 0:\n",
    "            delta = before_E_in - E_in\n",
    "\n",
    "        # If E_in doesn't decrease by some fraction <eps>\n",
    "        # of the initial decrease in E_in, stop early            \n",
    "        elif before_E_in - E_in < eps * delta:\n",
    "            break\n",
    "    return (U, V, get_err(U, V, Y))"
   ]
  },
  {
   "cell_type": "code",
   "execution_count": 58,
   "metadata": {},
   "outputs": [
    {
     "name": "stdout",
     "output_type": "stream",
     "text": [
      "Factorizing with  943  users,  1682  movies.\n",
      "Epoch 1, E_in (regularized MSE): 0.44587384350113546\n",
      "Epoch 2, E_in (regularized MSE): 0.39241926503195557\n",
      "Epoch 3, E_in (regularized MSE): 0.35268621510877535\n",
      "Epoch 4, E_in (regularized MSE): 0.314939102865808\n",
      "Epoch 5, E_in (regularized MSE): 0.294624692424897\n",
      "Epoch 6, E_in (regularized MSE): 0.27648694227735277\n",
      "Epoch 7, E_in (regularized MSE): 0.25937273517540793\n",
      "Epoch 8, E_in (regularized MSE): 0.2493068444424728\n",
      "Epoch 9, E_in (regularized MSE): 0.24395365992632367\n",
      "Epoch 10, E_in (regularized MSE): 0.2345239136943656\n",
      "Epoch 11, E_in (regularized MSE): 0.23049029818043051\n",
      "Epoch 12, E_in (regularized MSE): 0.22560862524305766\n",
      "Epoch 13, E_in (regularized MSE): 0.21951364818159527\n",
      "Epoch 14, E_in (regularized MSE): 0.21667273306263615\n",
      "Epoch 15, E_in (regularized MSE): 0.2148934058926719\n",
      "Epoch 16, E_in (regularized MSE): 0.21466955104718619\n",
      "Err training 0.21466955104718619\n",
      "Err testing 0.6456351273369589\n",
      "dim U [m x k] (943, 21)\n",
      "dim V [k x n] (21, 1682)\n"
     ]
    }
   ],
   "source": [
    "print(\"Factorizing with \", M, \" users, \", N, \" movies.\")\n",
    "Ks = 20\n",
    "\n",
    "reg = 0.0\n",
    "eta = 0.03 # learning rate\n",
    "\n",
    "# Use to compute Ein and Eout\n",
    "U, V, err_training = train_ab_model(M, N, Ks, eta, reg, Y_train)\n",
    "print('Err training', err_training)\n",
    "print('Err testing', sgd.get_err(U, V, Y_test))\n",
    "print('dim U [m x k]', U.shape)\n",
    "print('dim V [k x n]', V.shape)\n"
   ]
  },
  {
   "cell_type": "code",
   "execution_count": 59,
   "metadata": {},
   "outputs": [],
   "source": [
    "\n",
    "A, sigma, B = np.linalg.svd(V,  full_matrices=False)\n",
    "A_two_cols = A[:, 0:2]\n",
    "\n",
    "U_proj = A_two_cols.transpose()@U.transpose()\n",
    "V_proj = A_two_cols.transpose()@V"
   ]
  },
  {
   "cell_type": "code",
   "execution_count": 62,
   "metadata": {},
   "outputs": [
    {
     "data": {
      "image/png": "[encoded data removed]",
      "text/plain": [
       "<Figure size 720x720 with 1 Axes>"
      ]
     },
     "metadata": {},
     "output_type": "display_data"
    }
   ],
   "source": [
    "list_movies_id, list_movies_genre, list_movies_titles = get_list_movies(data, head_no=10)\n",
    "visualize(V_proj[:,0:10], list_movies_titles, list_movies_genre)"
   ]
  },
  {
   "cell_type": "markdown",
   "metadata": {},
   "source": [
    "### Method 3: off-the-shelf implementation "
   ]
  },
  {
   "cell_type": "code",
   "execution_count": 10,
   "metadata": {},
   "outputs": [
    {
     "name": "stdout",
     "output_type": "stream",
     "text": [
      "Evaluating RMSE, MAE of algorithm SVD on 5 split(s).\n",
      "\n",
      "                  Fold 1  Fold 2  Fold 3  Fold 4  Fold 5  Mean    Std     \n",
      "RMSE (testset)    0.9391  0.9463  0.9404  0.9477  0.9429  0.9433  0.0033  \n",
      "MAE (testset)     0.7422  0.7468  0.7413  0.7464  0.7432  0.7440  0.0022  \n",
      "Fit time          2.58    2.58    2.59    2.58    2.58    2.58    0.00    \n",
      "Test time         0.08    0.08    0.13    0.07    0.07    0.09    0.02    \n",
      "pu shape (943, 100)\n",
      "qi shape (1663, 100)\n"
     ]
    }
   ],
   "source": [
    "reader = Reader(rating_scale=(0,5))\n",
    "train_dataset = Dataset.load_from_df(Y_train_df, reader)\n",
    "\n",
    "train_dataset_object = train_dataset.build_full_trainset()\n",
    "\n",
    "algo = SVD()\n",
    "cross_validate(algo, train_dataset, measures=['RMSE', 'MAE'], cv=5, verbose=True)\n",
    "\n",
    "algo.fit(train_dataset_object)\n",
    "\n",
    "print('pu shape', algo.pu.shape)\n",
    "print('qi shape', algo.qi.shape)\n",
    "\n"
   ]
  },
  {
   "cell_type": "code",
   "execution_count": 11,
   "metadata": {},
   "outputs": [
    {
     "name": "stdout",
     "output_type": "stream",
     "text": [
      "user: 196        item: 302        r_ui = 4.00   est = 3.53   {'was_impossible': False}\n"
     ]
    }
   ],
   "source": [
    "# sample of prediction\n",
    "uid = str(196)  # raw user id (as in the ratings file). They are **strings**!\n",
    "iid = str(302)  # raw item id (as in the ratings file). They are **strings**!\n",
    "\n",
    "# get a prediction for specific users and items.\n",
    "pred = algo.predict(uid, iid, r_ui=4, verbose=True)\n",
    "\n"
   ]
  },
  {
   "cell_type": "markdown",
   "metadata": {},
   "source": [
    "#### Visualization"
   ]
  },
  {
   "cell_type": "code",
   "execution_count": 12,
   "metadata": {},
   "outputs": [
    {
     "data": {
      "image/png": "[encoded data removed]",
      "text/plain": [
       "<Figure size 720x720 with 1 Axes>"
      ]
     },
     "metadata": {},
     "output_type": "display_data"
    }
   ],
   "source": [
    "list_movies_id, list_movies_genre, list_movies_titles = get_list_movies(Y_train_df, head_no=10)\n",
    "visualize(algo.qi[:,0:10], list_movies_titles, list_movies_genre)\n",
    "\n",
    "# print('pu',algo.pu)\n",
    "# print('qi',algo.qi)"
   ]
  },
  {
   "cell_type": "code",
   "execution_count": null,
   "metadata": {},
   "outputs": [],
   "source": []
  },
  {
   "cell_type": "code",
   "execution_count": null,
   "metadata": {},
   "outputs": [],
   "source": []
  },
  {
   "cell_type": "code",
   "execution_count": null,
   "metadata": {},
   "outputs": [],
   "source": []
  }
 ],
 "metadata": {
  "kernelspec": {
   "display_name": "Python 3",
   "language": "python",
   "name": "python3"
  },
  "language_info": {
   "codemirror_mode": {
    "name": "ipython",
    "version": 3
   },
   "file_extension": ".py",
   "mimetype": "text/x-python",
   "name": "python",
   "nbconvert_exporter": "python",
   "pygments_lexer": "ipython3",
   "version": "3.8.5"
  }
 },
 "nbformat": 4,
 "nbformat_minor": 4
}
