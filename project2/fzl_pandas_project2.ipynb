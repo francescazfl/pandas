{
 "cells": [
  {
   "cell_type": "markdown",
   "metadata": {
    "id": "7zUORCRJ0rWk"
   },
   "source": [
    "Team: Pandas\n",
    "\n",
    "Group members: Francesca-Zhoufan Li, Elena Sorina Lupu, Nikhil Ranganathan"
   ]
  },
  {
   "cell_type": "markdown",
   "metadata": {
    "id": "APtDm7e_0Thi"
   },
   "source": [
    "# Install and Import Packages"
   ]
  },
  {
   "cell_type": "code",
   "execution_count": null,
   "metadata": {
    "colab": {
     "base_uri": "https://localhost:8080/"
    },
    "id": "FotGkO3m0be7",
    "outputId": "8fca4d62-6c50-453c-e262-c7ee8ae75b2d"
   },
   "outputs": [],
   "source": [
    "!pip install iqplot"
   ]
  },
  {
   "cell_type": "code",
   "execution_count": null,
   "metadata": {
    "colab": {
     "base_uri": "https://localhost:8080/",
     "height": 42
    },
    "id": "pQ1za8T7z6-P",
    "outputId": "b2284a31-9713-4d0b-bc3c-e7c64373bb31"
   },
   "outputs": [],
   "source": [
    "import ssl\n",
    "ssl._create_default_https_context = ssl._create_unverified_context\n",
    "\n",
    "from math import pi\n",
    "import numpy as np\n",
    "import pandas as pd\n",
    "\n",
    "import matplotlib.pyplot as plt\n",
    "import matplotlib.ticker as ticker\n",
    "\n",
    "import seaborn as sns\n",
    "sns.set_theme(style=\"white\", context=\"talk\")\n",
    "\n",
    "import iqplot\n",
    "import bokeh.io\n",
    "from bokeh.layouts import column, gridplot\n",
    "from bokeh.models import ColorBar, ColorMapper, LinearColorMapper, Ticker\n",
    "bokeh.io.output_notebook()\n",
    "\n",
    "import holoviews as hv\n",
    "from holoviews import opts\n",
    "# import bebi103\n",
    "\n",
    "hv.extension(\"bokeh\")\n",
    "# bebi103.hv.set_defaults()"
   ]
  },
  {
   "cell_type": "markdown",
   "metadata": {
    "id": "sfntsu9C0jBs"
   },
   "source": [
    "# Load and Clean Up Data"
   ]
  },
  {
   "cell_type": "code",
   "execution_count": null,
   "metadata": {
    "id": "NQM6pMvfFSJU"
   },
   "outputs": [],
   "source": [
    "def load_train_test(trainortest):\n",
    "    \"\"\"Load train or test data\"\"\"\n",
    "    return pd.read_csv(\n",
    "        \"https://raw.githubusercontent.com/lakigigar/Caltech-CS155-2021/main/projects/project2/data/\"\n",
    "        + trainortest,\n",
    "        sep=\"\\t\",\n",
    "        header=None,\n",
    "        names=[\"USER\", \"MOVIE\", \"RATING\"],\n",
    "    )"
   ]
  },
  {
   "cell_type": "code",
   "execution_count": null,
   "metadata": {
    "id": "0ruPr8Y5z6-V"
   },
   "outputs": [],
   "source": [
    "def load_data(f_data, f_train, f_test, f_movies):\n",
    "    \"\"\"Load the user and movie data, FZL modified\"\"\"\n",
    "\n",
    "    data = load_train_test(f_data)\n",
    "    train = load_train_test(f_train)\n",
    "    test = load_train_test(f_test)\n",
    "\n",
    "    movies = pd.read_csv(\n",
    "        \"https://raw.githubusercontent.com/lakigigar/Caltech-CS155-2021/main/projects/project2/data/\"\n",
    "        + f_movies,\n",
    "        encoding=\"latin-1\",\n",
    "        sep=\"\\t\",\n",
    "        header=None,\n",
    "        names=[\n",
    "            \"MOVIE_ID\",\n",
    "            \"TITLE\",\n",
    "            \"UNKNOWN\",\n",
    "            \"ACTION\",\n",
    "            \"ADVENTURE\",\n",
    "            \"ANIMATION\",\n",
    "            \"CHILDREN\",\n",
    "            \"COMEDY\",\n",
    "            \"CRIME\",\n",
    "            \"DOCUMENTARY\",\n",
    "            \"DRAMA\",\n",
    "            \"FANTASY\",\n",
    "            \"FILM-NOIR\",\n",
    "            \"HORROR\",\n",
    "            \"MUSICAL\",\n",
    "            \"MYSTERY\",\n",
    "            \"ROMANCE\",\n",
    "            \"SCI-FI\",\n",
    "            \"THRILLER\",\n",
    "            \"WAR\",\n",
    "            \"WESTERN\",\n",
    "        ],\n",
    "    )\n",
    "\n",
    "    movies.loc[movies.TITLE == \"unknown\", \"TITLE\"] = \"MOVIE_ID: \" + movies.loc[\n",
    "        movies.TITLE == \"unknown\", \"MOVIE_ID\"\n",
    "    ].astype(\"str\")\n",
    "\n",
    "    return data, train, test, movies"
   ]
  },
  {
   "cell_type": "code",
   "execution_count": null,
   "metadata": {
    "id": "Pa0D7dO4FSJW"
   },
   "outputs": [],
   "source": [
    "def check_dup(df, df_details):\n",
    "    \"\"\"Check fi there are duplicated entries for each dataframe\"\"\"\n",
    "    print(f\"There are {sum((df.duplicated())*1)} duplicate entires in {df_details}\")"
   ]
  },
  {
   "cell_type": "code",
   "execution_count": null,
   "metadata": {
    "colab": {
     "base_uri": "https://localhost:8080/"
    },
    "id": "5Z6i5VL2z6-V",
    "outputId": "5f978910-71bb-4ca8-babb-ebbeafb633fd"
   },
   "outputs": [],
   "source": [
    "data, Y_train_df, Y_test_df, movies = load_data(\n",
    "    \"data.txt\", \"train.txt\", \"test.txt\", \"movies.txt\"\n",
    ")\n",
    "\n",
    "check_dup(Y_train_df, \"Y_train_df\")\n",
    "check_dup(Y_test_df, \"Y_test_df\")"
   ]
  },
  {
   "cell_type": "markdown",
   "metadata": {
    "id": "aY6T8AJdz6-W"
   },
   "source": [
    "# Basic Visualization"
   ]
  },
  {
   "cell_type": "markdown",
   "metadata": {
    "id": "E1Yri7-4z6-W"
   },
   "source": [
    "## All MovieLens Dataset"
   ]
  },
  {
   "cell_type": "code",
   "execution_count": null,
   "metadata": {
    "colab": {
     "base_uri": "https://localhost:8080/",
     "height": 647
    },
    "id": "1xoyZS6Fz6-W",
    "outputId": "e625b1c6-aec5-477f-c3f4-17ed115ce0dd"
   },
   "outputs": [],
   "source": [
    "sum_df = pd.DataFrame(movies.set_index([\"MOVIE_ID\", \"TITLE\"]).sum(axis=0)).reset_index()\n",
    "sum_df.columns = [\"Genres\", \"Counts\"]\n",
    "sum_df = sum_df.sort_values([\"Counts\"], ascending=False).reset_index(drop=True)\n",
    "\n",
    "plt.figure(figsize=(15, 8))\n",
    "x = np.array(list(sum_df.Genres))\n",
    "y1 = sum_df.Counts.values\n",
    "sum_bar = sns.barplot(x=x, y=y1, palette=\"crest_r\")\n",
    "\n",
    "for index, row in sum_df.iterrows():\n",
    "    sum_bar.text(index, row.Counts, row.Counts, color=\"black\", ha=\"center\")\n",
    "\n",
    "sum_bar.set(xlabel=\"Genres\", ylabel=\"Counts\", title=\"Summary of gernre counts\")\n",
    "sum_bar.set_xticklabels(sum_bar.get_xticklabels(), rotation=90)\n",
    "plt.show()"
   ]
  },
  {
   "cell_type": "code",
   "execution_count": null,
   "metadata": {
    "colab": {
     "base_uri": "https://localhost:8080/",
     "height": 1000
    },
    "id": "OVa33uZWz6-X",
    "outputId": "d1f088ab-5fb1-47a6-c000-5e10d8b4846d"
   },
   "outputs": [],
   "source": [
    "plt.figure(figsize=(10, 40))\n",
    "movie_heat = sns.heatmap(\n",
    "    movies.iloc[:, 1:].set_index(\"TITLE\"),\n",
    "    yticklabels=False,\n",
    "    cmap=[(1, 1, 1), (0.14573579, 0.29354139, 0.49847009)],\n",
    "    cbar_kws=dict(use_gridspec=False, shrink=0.2, ticks=[0, 1],\n",
    "                  label=\"if the movie belongs to the genre\",\n",
    "                  # location=\"top\"\n",
    "                  ),\n",
    ")\n",
    "\n",
    "movie_heat.set(xlabel=\"Genres\", ylabel=\"Movies\", title=\"Summary of gernre for each movie\")\n",
    "plt.show()"
   ]
  },
  {
   "cell_type": "markdown",
   "metadata": {
    "id": "ALDCTNbBz6-X"
   },
   "source": [
    "## All ratings in the MovieLens Dataset"
   ]
  },
  {
   "cell_type": "code",
   "execution_count": null,
   "metadata": {
    "colab": {
     "base_uri": "https://localhost:8080/",
     "height": 367
    },
    "id": "b911CXe7z6-X",
    "outputId": "e2f29b7e-de49-46fb-a2a0-8ae27cfb3cb5"
   },
   "outputs": [],
   "source": [
    "data_all = iqplot.histogram(\n",
    "    data=data, q=\"RATING\", bins=\"exact\", title=\"Rating for all movies\"\n",
    ")\n",
    "bokeh.io.show(data_all)"
   ]
  },
  {
   "cell_type": "code",
   "execution_count": null,
   "metadata": {
    "id": "EQUnrVYoz6-Y"
   },
   "outputs": [],
   "source": [
    "def plot_heat_rate(\n",
    "    df, title_details, x_tick_scale=None, y_tick_scale=None, ifreorder=False\n",
    "):\n",
    "    \"\"\"Plot heatmap where x-axis is the users, y-axis is the movie id,\n",
    "    and the color corresponds to the rating\"\"\"\n",
    "\n",
    "    try:\n",
    "        if \"TITLE\" in df.columns:\n",
    "            nrow = len(df.TITLE.unique())\n",
    "            df_heat = df.pivot(\"TITLE\", \"USER\", \"RATING\")\n",
    "        elif \"MOVIE_ID\" in df.columns:\n",
    "            nrow = len(df.MOVIE_ID.unique())\n",
    "            df_heat = df.pivot(\"MOVIE_ID\", \"USER\", \"RATING\")\n",
    "        elif \"MOVIE\" in df.columns:\n",
    "            nrow = len(df.MOVIE.unique())\n",
    "            df_heat = df.pivot(\"MOVIE\", \"USER\", \"RATING\")\n",
    "        else:\n",
    "            nrow = -1\n",
    "    except:\n",
    "        print(\"Resolving duplicating issue\")\n",
    "        df_heat = (\n",
    "            df[[\"TITLE\", \"USER\", \"RATING\"]]\n",
    "            .drop_duplicates()\n",
    "            .reset_index(drop=True)\n",
    "            .pivot_table(values=\"RATING\", index=[\"TITLE\", \"USER\"], aggfunc=\"mean\")\n",
    "            .unstack(1)\n",
    "        )\n",
    "        df_heat.columns = [user_id for r, user_id in df_heat.columns]\n",
    "\n",
    "    if nrow == None:\n",
    "        nscale = -20\n",
    "    elif nrow < 4:\n",
    "        nscale = 4\n",
    "    elif nrow > 1000:\n",
    "        nscale = 0.01\n",
    "        y_tick_scale = 50\n",
    "    else:\n",
    "        nscale = 0.6\n",
    "    p_height = nrow * nscale\n",
    "\n",
    "    if len(df.USER.unique()) > 50:\n",
    "        x_tick_scale = 50\n",
    "    \n",
    "    if ifreorder:\n",
    "        df_heat = df_heat.reindex(df.TITLE.unique())\n",
    "\n",
    "    plt.figure(figsize=(20, p_height))\n",
    "    rating_heat = sns.heatmap(\n",
    "        df_heat,\n",
    "        cmap=\"crest\",\n",
    "        cbar_kws=dict(\n",
    "            use_gridspec=False,\n",
    "            shrink=0.2,\n",
    "            ticks=list(range(1, 6)),\n",
    "            label=\"rating\",\n",
    "            location=\"top\",\n",
    "        ),\n",
    "    )\n",
    "\n",
    "    if x_tick_scale != None:\n",
    "        rating_heat.xaxis.set_major_locator(ticker.MultipleLocator(x_tick_scale))\n",
    "        rating_heat.xaxis.set_major_formatter(ticker.ScalarFormatter())\n",
    "\n",
    "    if y_tick_scale != None:\n",
    "        rating_heat.yaxis.set_major_locator(ticker.MultipleLocator(y_tick_scale))\n",
    "        rating_heat.yaxis.set_major_formatter(ticker.ScalarFormatter())\n",
    "    \n",
    "    rating_heat.set(xlabel=\"USER\", title=f\"Summary of {title_details}\")\n",
    "    plt.show()\n",
    "\n",
    "    return rating_heat"
   ]
  },
  {
   "cell_type": "code",
   "execution_count": null,
   "metadata": {
    "id": "Mpqg4_ODz6-Y"
   },
   "outputs": [],
   "source": [
    "def plot_rating_cat(df, cat):\n",
    "    \"\"\"Plot the rating grouped by user or movie\"\"\"\n",
    "    p = iqplot.stripbox(\n",
    "        data=df.sort_values(cat),\n",
    "        q=\"RATING\",\n",
    "        cats=cat,\n",
    "        plot_width=len(df[cat].unique())*10,\n",
    "        palette=list(\n",
    "            sns.color_palette(\"crest_r\", len(df[cat].unique())).as_hex()\n",
    "        ),\n",
    "        jitter=True,\n",
    "        marker_kwargs=dict(alpha=0.05),\n",
    "        q_axis=\"y\",\n",
    "        title=\"Rating per \" + cat,\n",
    "    )\n",
    "    p.xaxis.major_label_orientation = pi/2\n",
    "    bokeh.io.show(p)"
   ]
  },
  {
   "cell_type": "code",
   "execution_count": null,
   "metadata": {
    "colab": {
     "base_uri": "https://localhost:8080/",
     "height": 790
    },
    "id": "FUjxunpxz6-Y",
    "outputId": "cacb5a26-fa5f-40f0-b50f-88d88748c3bb"
   },
   "outputs": [],
   "source": [
    "rating_heat_all = plot_heat_rate(data,\n",
    "                                 \"full user movie rating\",\n",
    "                                 x_tick_scale=50, y_tick_scale=50)"
   ]
  },
  {
   "cell_type": "code",
   "execution_count": null,
   "metadata": {
    "colab": {
     "base_uri": "https://localhost:8080/",
     "height": 373
    },
    "id": "oMNtcOyaz6-Z",
    "outputId": "4969a661-b4e7-415f-9f2d-611c6d64cd67"
   },
   "outputs": [],
   "source": [
    "plot_rating_cat(data, \"USER\")"
   ]
  },
  {
   "cell_type": "code",
   "execution_count": null,
   "metadata": {
    "colab": {
     "base_uri": "https://localhost:8080/",
     "height": 380
    },
    "id": "exorjr2wz6-Z",
    "outputId": "38bcd148-7352-4224-d79b-2e7c37641051"
   },
   "outputs": [],
   "source": [
    "plot_rating_cat(data, \"MOVIE\")"
   ]
  },
  {
   "cell_type": "markdown",
   "metadata": {
    "id": "K66p1Snzz6-Z"
   },
   "source": [
    "## All ratings of the ten most popular (rated) movies"
   ]
  },
  {
   "cell_type": "code",
   "execution_count": null,
   "metadata": {
    "id": "IhVAN34cz6-Z"
   },
   "outputs": [],
   "source": [
    "def get_pop_movie(data, movies):\n",
    "    \"\"\"Get the number and title of rated movies\"\"\"\n",
    "    movie_count = pd.DataFrame(data.MOVIE.value_counts()).reset_index()\n",
    "    movie_count.columns = [\"MOVIE_ID\", \"RATING_COUNTS\"]\n",
    "    return movie_count"
   ]
  },
  {
   "cell_type": "code",
   "execution_count": null,
   "metadata": {
    "id": "M3tyggCOz6-Z"
   },
   "outputs": [],
   "source": [
    "def merge_title(df, movies, ifgenres=False):\n",
    "    \"\"\"Add movie titles\"\"\"\n",
    "    if \"MOVIE\" in df.columns:\n",
    "        df = df.rename(columns={\"MOVIE\": \"MOVIE_ID\"})\n",
    "    if not ifgenres:\n",
    "        movie_comb = movies.iloc[:, :2]\n",
    "    else:\n",
    "        movie_comb = movies\n",
    "\n",
    "    df = df.merge(movie_comb, left_on=\"MOVIE_ID\", right_on=\"MOVIE_ID\", how=\"left\")\n",
    "\n",
    "    df.loc[df.TITLE.isnull(), \"TITLE\"] = (\n",
    "        \"MOVIE_ID: \" + df.loc[df.TITLE.isnull(), \"MOVIE_ID\"]\n",
    "    )\n",
    "\n",
    "    return df"
   ]
  },
  {
   "cell_type": "code",
   "execution_count": null,
   "metadata": {
    "id": "4ILrbpxOz6-a"
   },
   "outputs": [],
   "source": [
    "def get_top_pop_movie_data(data, movies, topn):\n",
    "    \"\"\"Get the top rated movie ratings\"\"\"\n",
    "    data_lists = []\n",
    "    movie_count = get_pop_movie(data, movies)\n",
    "    for i in movie_count.MOVIE_ID[:topn]:\n",
    "        data_lists.append(data[data.MOVIE==i])\n",
    "    return merge_title(pd.concat(data_lists), movies)"
   ]
  },
  {
   "cell_type": "code",
   "execution_count": null,
   "metadata": {
    "id": "IfQKqJWIFSJj"
   },
   "outputs": [],
   "source": [
    "def get_topn_str(df, topn):\n",
    "    \"\"\"Convert topn to all if None or number\"\"\"\n",
    "    if topn == None:\n",
    "        topn = len(df)\n",
    "        return \"all\"\n",
    "    else:\n",
    "        return str(topn)"
   ]
  },
  {
   "cell_type": "code",
   "execution_count": null,
   "metadata": {
    "id": "-TwiPY97FSJj"
   },
   "outputs": [],
   "source": [
    "def hv_render(plot):\n",
    "    \"\"\"Render holoviews plots\"\"\"\n",
    "    # Take out the Bokeh object\n",
    "    p = hv.render(plot)\n",
    "    # Display using Bokeh\n",
    "    bokeh.io.show(p)"
   ]
  },
  {
   "cell_type": "code",
   "execution_count": null,
   "metadata": {
    "id": "hqX6HLdVFSJk"
   },
   "outputs": [],
   "source": [
    "def plot_vio(df, title_details, topn):\n",
    "    \"\"\"Plot violin plots\"\"\"\n",
    "    topn_str = get_topn_str(df, topn)\n",
    "    ncols = len(df.TITLE.unique())\n",
    "    if ncols < 700:\n",
    "        col_w = 50\n",
    "    else:\n",
    "        col_w = 20\n",
    "    \n",
    "    hv_violin = hv.Violin(\n",
    "        (df[\"TITLE\"], df[\"RATING\"]), [\"TITLE\"], \"Value\",\n",
    "    ).opts(\n",
    "        violin_color=hv.dim(\"TITLE\").str(),\n",
    "        cmap=\"GnBu_r\",\n",
    "        ylabel=\"RATING\",\n",
    "        title=f\"Rating violin plot for the {topn_str} {title_details} movies\",\n",
    "        ylim=(-1, 7),\n",
    "        show_legend=False,\n",
    "        colorbar=True,\n",
    "        # cut=1,\n",
    "        # bandwidth=1,\n",
    "        # inner='stick',\n",
    "        box_alpha=0.5,\n",
    "        xrotation=90,\n",
    "        width=col_w * len(df[\"TITLE\"].unique()),\n",
    "        height=300 + df.TITLE.map(len).max()*5,\n",
    "    )\n",
    "\n",
    "    hv_render(hv_violin)\n",
    "    \n",
    "    return hv_violin"
   ]
  },
  {
   "cell_type": "code",
   "execution_count": null,
   "metadata": {
    "id": "S2UC0clFz6-a"
   },
   "outputs": [],
   "source": [
    "def plot_topn_pop_rating(df, title_details, topn):\n",
    "    \"\"\"Plot the top n most popular/rated movies\"\"\"\n",
    "\n",
    "    topn_str = get_topn_str(df, topn)\n",
    "    \n",
    "    ncols = len(df.TITLE.unique())\n",
    "    if ncols < 100:\n",
    "        col_w = 50\n",
    "    else:\n",
    "        col_w = 20\n",
    "    p_w = ncols * col_w\n",
    "\n",
    "    if p_w < 500:\n",
    "        p_w = 500\n",
    "\n",
    "    topn_pop = iqplot.stripbox(\n",
    "        data=df,\n",
    "        q=\"RATING\",\n",
    "        cats=\"TITLE\",\n",
    "        palette=list(sns.color_palette(\"crest_r\", topn).as_hex()),\n",
    "        jitter=True,\n",
    "        top_level=\"box\",\n",
    "        q_axis=\"y\",\n",
    "        plot_width=p_w,\n",
    "        marker_kwargs=dict(alpha=0.05),\n",
    "        title=f\"Rating stripbox plot for the {topn_str} {title_details} movies\",\n",
    "    )\n",
    "\n",
    "    mapper = LinearColorMapper(\n",
    "        palette=list(sns.color_palette(\"crest\", topn).as_hex()), low=1, high=topn,\n",
    "    )\n",
    "    color_bar = ColorBar(\n",
    "        color_mapper=mapper,\n",
    "        padding=0,\n",
    "        location=(0, 0),\n",
    "        title=\"Most rated\",\n",
    "        title_standoff=10,\n",
    "    )\n",
    "\n",
    "    topn_pop.add_layout(color_bar, \"right\")\n",
    "    topn_pop.xaxis.major_label_orientation = pi / 2\n",
    "    topn_pop.xaxis.axis_label = \"MOVIE\"\n",
    "    bokeh.io.show(topn_pop)\n",
    "    return topn_pop"
   ]
  },
  {
   "cell_type": "code",
   "execution_count": null,
   "metadata": {
    "id": "pfI5r6PbFSJm"
   },
   "outputs": [],
   "source": [
    "def plot_hist_all(df, title_details, topn, ifoverlay=True):\n",
    "    \"\"\"Plot summary histogram\"\"\"\n",
    "    if ifoverlay:\n",
    "        set_cat = \"TITLE\"\n",
    "        set_kind = \"step\"\n",
    "        set_palette = list(\n",
    "            sns.color_palette(\"crest_r\", len(df.TITLE.unique())).as_hex()\n",
    "        )\n",
    "    else:\n",
    "        set_cat = None\n",
    "        set_kind = \"step_filled\"\n",
    "        set_palette = [sns.color_palette(\"crest\", 5).as_hex()[-1]] * len(df)\n",
    "\n",
    "    topn_str = get_topn_str(df, topn)\n",
    "    h = iqplot.histogram(\n",
    "        data=df,\n",
    "        bins=\"exact\",\n",
    "        q=\"RATING\",\n",
    "        cats=set_cat,\n",
    "        kind=set_kind,\n",
    "        palette=set_palette,\n",
    "        title=f\"Rating histogram for the {topn_str} {title_details} movies\",\n",
    "    )\n",
    "\n",
    "    # comment out for colab\n",
    "    # h.add_layout(h.legend[0], \"right\") \n",
    "\n",
    "    bokeh.io.show(h)\n",
    "    return h"
   ]
  },
  {
   "cell_type": "code",
   "execution_count": null,
   "metadata": {
    "id": "iLVe7f9Pz6-a"
   },
   "outputs": [],
   "source": [
    "def plot_hist_list(df):\n",
    "    \"\"\"Plot a list of hist depaned on title\"\"\"\n",
    "\n",
    "    titles = df.TITLE.unique()\n",
    "    hists = [None] * len(titles)\n",
    "    for c, t in enumerate(titles):\n",
    "        hists[c] = iqplot.histogram(\n",
    "            data=df[df.TITLE == t],\n",
    "            bins=\"exact\",\n",
    "            q=\"RATING\",\n",
    "            title=t,\n",
    "            plot_width=200,\n",
    "            plot_height=150,\n",
    "        )\n",
    "\n",
    "    grid = gridplot(hists, ncols=10)\n",
    "\n",
    "    bokeh.io.show(column(grid))\n",
    "    return hists"
   ]
  },
  {
   "cell_type": "code",
   "execution_count": null,
   "metadata": {
    "id": "Fnn26Q9wFSJm"
   },
   "outputs": [],
   "source": [
    "def plot_plots(\n",
    "    df,\n",
    "    topn,\n",
    "    title_details,\n",
    "    x_tick_scale=None,\n",
    "    y_tick_scale=None,\n",
    "    ifvio=True,\n",
    "    ifstripbox=True,\n",
    "    ifheat=True,\n",
    "    iftotallhist=True,\n",
    "    ifoverlayhist=True,\n",
    "    ifindhist=True,\n",
    "    ifreorder=True,\n",
    "):\n",
    "    \"\"\"Generate the stripbox or box, heatmap, and histograms\"\"\"\n",
    "\n",
    "    topn_str = get_topn_str(df, topn)\n",
    "    \n",
    "    if ifvio:\n",
    "        v = plot_vio(df, title_details, topn)\n",
    "            \n",
    "    if ifstripbox:\n",
    "        try:\n",
    "            poporrate = plot_topn_pop_rating(df, title_details, topn)\n",
    "        except:\n",
    "            poporrate = plot_top_rate(df, title_details, topn)\n",
    "    \n",
    "    if ifheat:\n",
    "        heat = plot_heat_rate(\n",
    "            df,\n",
    "            f\"{title_details} {topn_str} movies\",\n",
    "            x_tick_scale=x_tick_scale,\n",
    "            y_tick_scale=y_tick_scale,\n",
    "            ifreorder=ifreorder,\n",
    "        )\n",
    "    \n",
    "    if iftotallhist:\n",
    "        h_all = plot_hist_all(df,  title_details, topn, ifoverlay=False)\n",
    "        \n",
    "    if ifoverlayhist:\n",
    "        h_overlay = plot_hist_all(df,  title_details, topn, ifoverlay=True)\n",
    "\n",
    "    if ifindhist:\n",
    "        hists = plot_hist_list(df)\n",
    "   "
   ]
  },
  {
   "cell_type": "code",
   "execution_count": null,
   "metadata": {
    "colab": {
     "base_uri": "https://localhost:8080/",
     "height": 1000
    },
    "id": "ULlcYaM_z6-b",
    "outputId": "8990ddef-5018-4bc3-9a6c-13a9e3b0f5af"
   },
   "outputs": [],
   "source": [
    "topn = 10\n",
    "topn_pop_df = get_top_pop_movie_data(data, movies, topn)\n",
    "plot_plots(topn_pop_df, topn, \"top rated\", x_tick_scale=50)"
   ]
  },
  {
   "cell_type": "markdown",
   "metadata": {
    "id": "Cnopny1_z6-b"
   },
   "source": [
    "## All ratings of the ten best movies with the highest average ratings"
   ]
  },
  {
   "cell_type": "code",
   "execution_count": null,
   "metadata": {
    "id": "yRNPPDHtz6-b"
   },
   "outputs": [],
   "source": [
    "def get_top_rate(data, movies, topn):\n",
    "    \"\"\"Get the top rated movies\"\"\"\n",
    "    top_rate = (\n",
    "        data.set_index([\"MOVIE\"])\n",
    "        .groupby([\"MOVIE\"])\n",
    "        .mean()\n",
    "        .sort_values([\"RATING\"], ascending=False)\n",
    "        .reset_index()\n",
    "    )\n",
    "\n",
    "    df_list = []\n",
    "    \n",
    "    for i in top_rate.MOVIE[:topn]:\n",
    "        df_list.append(data[data.MOVIE==i])\n",
    "    \n",
    "    return merge_title(pd.concat(df_list), movies)"
   ]
  },
  {
   "cell_type": "code",
   "execution_count": null,
   "metadata": {
    "id": "G6RT2EOVz6-b"
   },
   "outputs": [],
   "source": [
    "def plot_top_rate(df, title_details, topn):\n",
    "    \"\"\"Plot strip plots of the top rated movies\"\"\"\n",
    "    \n",
    "    if topn == None:\n",
    "        topn = len(df)\n",
    "        topn_str = \"all\"\n",
    "    else:\n",
    "        topn_str = topn\n",
    "        \n",
    "    ncols = len(df.TITLE.unique())\n",
    "    if ncols < 20:\n",
    "        col_w = 50\n",
    "    else:\n",
    "        col_w = 10\n",
    "    p_w = ncols*col_w\n",
    "    \n",
    "    if p_w < 200:\n",
    "        p_w = 200\n",
    "        \n",
    "    topn_rate = iqplot.strip(\n",
    "        data=df,\n",
    "        q=\"RATING\",\n",
    "        cats=\"TITLE\",\n",
    "        palette=list(sns.color_palette(\"crest_r\", \n",
    "                                       len(df.RATING.unique())).as_hex()),\n",
    "        jitter=True,\n",
    "        q_axis=\"y\",\n",
    "        plot_width=p_w,\n",
    "        marker_kwargs=dict(alpha=0.5),\n",
    "        color_column=\"RATING\",\n",
    "        title=f\"Rating for the {title_details} {topn_str} movies\",\n",
    "    )\n",
    "\n",
    "    topn_rate.xaxis.major_label_orientation = pi / 2\n",
    "    topn_rate.xaxis.axis_label = \"MOVIE\"\n",
    "    bokeh.io.show(topn_rate)\n",
    "    return topn_rate"
   ]
  },
  {
   "cell_type": "code",
   "execution_count": null,
   "metadata": {
    "colab": {
     "base_uri": "https://localhost:8080/",
     "height": 1000
    },
    "id": "EEHxPWRYz6-c",
    "outputId": "9640c3f4-e42f-4d5e-ef0c-7893262ffa9a"
   },
   "outputs": [],
   "source": [
    "topn = 10\n",
    "topn_rate_df = get_top_rate(data, movies, topn)\n",
    "plot_plots(topn_rate_df, topn, \"top average rating\" ,ifvio=False)"
   ]
  },
  {
   "cell_type": "markdown",
   "metadata": {
    "id": "qVd1idn0z6-c"
   },
   "source": [
    "## All ratings of movies from different genres of choice"
   ]
  },
  {
   "cell_type": "code",
   "execution_count": null,
   "metadata": {
    "colab": {
     "base_uri": "https://localhost:8080/",
     "height": 1000
    },
    "id": "VXGQD_M4z6-c",
    "outputId": "5e950146-5420-4ed5-816d-5664f8ffa99e"
   },
   "outputs": [],
   "source": [
    "topn = None\n",
    "genre_df = merge_title(data, movies, ifgenres=True)\n",
    "genres = movies.columns[2:]\n",
    "for g in genres:\n",
    "    g_df = genre_df[genre_df[g] == 1]\n",
    "    plot_plots(g_df, topn, g, ifstripbox=False, ifoverlayhist=False, \n",
    "               ifindhist=False, ifreorder=False)"
   ]
  },
  {
   "cell_type": "code",
   "execution_count": null,
   "metadata": {
    "id": "nBJL7ZibKIPX"
   },
   "outputs": [],
   "source": []
  }
 ],
 "metadata": {
  "colab": {
   "collapsed_sections": [],
   "name": "pandas_project2.ipynb",
   "provenance": [],
   "toc_visible": true
  },
  "kernelspec": {
   "display_name": "Python 3",
   "language": "python",
   "name": "python3"
  },
  "language_info": {
   "codemirror_mode": {
    "name": "ipython",
    "version": 3
   },
   "file_extension": ".py",
   "mimetype": "text/x-python",
   "name": "python",
   "nbconvert_exporter": "python",
   "pygments_lexer": "ipython3",
   "version": "3.8.5"
  }
 },
 "nbformat": 4,
 "nbformat_minor": 4
}
