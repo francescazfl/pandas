{
 "cells": [
  {
   "cell_type": "code",
   "execution_count": 82,
   "metadata": {},
   "outputs": [],
   "source": [
    "import numpy as np\n",
    "import pandas as pd\n",
    "from string import punctuation"
   ]
  },
  {
   "cell_type": "code",
   "execution_count": 137,
   "metadata": {},
   "outputs": [],
   "source": [
    "def load_data():\n",
    "    \n",
    "    data_txt = open('data/shakespeare.txt')\n",
    "    quatrain = []; volta = []; couplet = [];\n",
    "    \n",
    "    Lines = data_txt.readlines()\n",
    "    count=0\n",
    "    for i,line in enumerate(Lines):\n",
    "        if any(char.isdigit() for char in line):\n",
    "            for j in range(1,9):\n",
    "                quatrain.append(Lines[i+j][:-1])\n",
    "            for j in range(9,13):\n",
    "                volta.append(Lines[i+j][:-1])\n",
    "            for j in range(13,15):\n",
    "                couplet.append(Lines[i+j][:-1])\n",
    "    return quatrain,volta,couplet\n",
    "\n",
    "def load_key():\n",
    "    \n",
    "    data_key = open('data/Syllable_dictionary.txt')\n",
    "    Lines = data_key.readlines()\n",
    "    \n",
    "    key_list = [];\n",
    "    \n",
    "    for i,line in enumerate(Lines):\n",
    "        split_str = line.strip(string.punctuation).split()\n",
    "        if len(split_str) == 3:\n",
    "            if len(split_str[1])==2:\n",
    "                key_list.append([split_str[0],[int(split_str[2])],int(split_str[1][1])])\n",
    "            elif len(split_str[2])==2:\n",
    "                key_list.append([split_str[0],[int(split_str[1])],int(split_str[2][1])])\n",
    "            else:\n",
    "                key_list.append([split_str[0],[int(split_str[1]),int(split_str[2])],0])\n",
    "\n",
    "        else:\n",
    "            key_list.append([split_str[0],[int(split_str[1])],0])\n",
    "    \n",
    "    return key_list\n",
    "    \n",
    "    \n",
    "    \n",
    "def convert_to_nums(dataset,key_list):\n",
    "    word_list = [i[0] for i in key_list]\n",
    "    seq_list = []\n",
    "    for i in range(0,len(dataset)):\n",
    "        words = dataset[i].split()\n",
    "        seq = []\n",
    "        for j in range(0,len(words)):\n",
    "            if words[j].lower() == \"th'\" or words[j].lower() == \"t'\":\n",
    "                n = word_list.index(words[j].lower())\n",
    "            else:\n",
    "                n = word_list.index(words[j].lower().strip(string.punctuation))\n",
    "            seq.append(n)\n",
    "        seq_list.append(seq)\n",
    "    \n",
    "    return seq_list\n",
    "\n",
    "def generate_sequences():\n",
    "    #CALL THIS TO GENERATE THE 3 TRAINING DATASETS\n",
    "    #OUTPUTS:\n",
    "    #seq_list_quatrain: list of sequences corresponding to lines in the first 2 quatrains\n",
    "    #seq_list_volta: list of sequences corresponding to lines in the volta\n",
    "    #seq_list_couplet: list of sequences corresponding to lines in the couplet\n",
    "    #key_list: list of lists containing information stored in Syllable_dictionary:\n",
    "    #Each list corresponds to a word, with index 0 being the word, \n",
    "    #index 1 being a list containing possible numbers of syllables, and index 2 being the number of syllables if it's\n",
    "    #an end word.\n",
    "    \n",
    "    quatrain,volta,couplet = load_data()\n",
    "    key_list = load_key()\n",
    "    seq_list_quatrain = convert_to_nums(quatrain,key_list)\n",
    "    seq_list_volta = convert_to_nums(volta,key_list)\n",
    "    seq_list_couplet = convert_to_nums(couplet,key_list)\n",
    "    return seq_list_quatrain,seq_list_volta,seq_list_couplet,key_list\n",
    "    \n",
    "    \n",
    "            \n",
    "            "
   ]
  },
  {
   "cell_type": "code",
   "execution_count": 138,
   "metadata": {
    "scrolled": false
   },
   "outputs": [],
   "source": [
    "quatrain,volta,couplet = load_data()\n",
    "key_list = load_key()\n",
    "seq_list_quatrain = convert_to_nums(quatrain,key_list)\n",
    "\n",
    "seq_list_quatrain,seq_list_volta,seq_list_couplet,key_list = generate_sequences()"
   ]
  },
  {
   "cell_type": "code",
   "execution_count": null,
   "metadata": {},
   "outputs": [],
   "source": []
  },
  {
   "cell_type": "code",
   "execution_count": null,
   "metadata": {},
   "outputs": [],
   "source": []
  }
 ],
 "metadata": {
  "kernelspec": {
   "display_name": "Python 3",
   "language": "python",
   "name": "python3"
  },
  "language_info": {
   "codemirror_mode": {
    "name": "ipython",
    "version": 3
   },
   "file_extension": ".py",
   "mimetype": "text/x-python",
   "name": "python",
   "nbconvert_exporter": "python",
   "pygments_lexer": "ipython3",
   "version": "3.8.5"
  }
 },
 "nbformat": 4,
 "nbformat_minor": 4
}
